{
  "nbformat": 4,
  "nbformat_minor": 0,
  "metadata": {
    "colab": {
      "name": "S6",
      "provenance": [],
      "collapsed_sections": []
    },
    "kernelspec": {
      "name": "python3",
      "display_name": "Python 3"
    },
    "language_info": {
      "name": "python"
    }
  },
  "cells": [
    {
      "cell_type": "markdown",
      "source": [
        "# Algoritmos"
      ],
      "metadata": {
        "id": "0YiHiimaBwtm"
      }
    },
    {
      "cell_type": "markdown",
      "source": [
        "## Determinantes"
      ],
      "metadata": {
        "id": "NOiaa4PhB0ry"
      }
    },
    {
      "cell_type": "markdown",
      "source": [
        "### Menor Complementario"
      ],
      "metadata": {
        "id": "q18UByk1E3YF"
      }
    },
    {
      "cell_type": "code",
      "source": [
        "A = [1,2,45,5,6,2]\n",
        "B = []\n",
        "print(B)"
      ],
      "metadata": {
        "colab": {
          "base_uri": "https://localhost:8080/"
        },
        "id": "T6wzQ_vEI9ZD",
        "outputId": "22adeef2-9fc1-4cce-d2b8-3b22be9f052c"
      },
      "execution_count": null,
      "outputs": [
        {
          "output_type": "stream",
          "name": "stdout",
          "text": [
            "[[0, 0, 0, 0, 0], [0, 0, 0, 0, 0], [0, 0, 0, 0, 0], [0, 0, 0, 0, 0], [0, 0, 0, 0, 0]]\n"
          ]
        }
      ]
    },
    {
      "cell_type": "code",
      "execution_count": null,
      "metadata": {
        "colab": {
          "base_uri": "https://localhost:8080/"
        },
        "id": "3No4_T_kBuoe",
        "outputId": "c07fd917-e680-4566-b2a7-0d0aa0fdac63"
      },
      "outputs": [
        {
          "output_type": "stream",
          "name": "stdout",
          "text": [
            "[[2, 3], [8, 9]]\n"
          ]
        }
      ],
      "source": [
        "def MC(A, i, j):\n",
        "  l = len(A)\n",
        "  B = []\n",
        "  for x in range(l):\n",
        "    if x == i:\n",
        "      continue\n",
        "    C = []\n",
        "    for y in range(l):\n",
        "      if y == j:\n",
        "        continue\n",
        "      C.append(A[x][y])\n",
        "    B.append(C)\n",
        "  return B\n",
        "\n",
        "A = [[1, 2, 3],\n",
        "     [4, 5, 6],\n",
        "     [7, 8, 9]]\n",
        "\n",
        "print(MC(A,1,0))"
      ]
    },
    {
      "cell_type": "markdown",
      "source": [
        "### Función Recursiva"
      ],
      "metadata": {
        "id": "OTEzPZ6tE5we"
      }
    },
    {
      "cell_type": "code",
      "source": [
        "def det(A, i = 0):\n",
        "  if len(A) == 1:\n",
        "    return A[0][0]\n",
        "  \n",
        "  ans = 0\n",
        "  for j in range(len(A)):\n",
        "    ans += (-1)**(i+j)*A[i][j]*det(MC(A, i, j))\n",
        "  return ans\n",
        "\n",
        "A = [[1, 2, 3],\n",
        "     [4, 5, 6],\n",
        "     [7, 8, 0]]\n",
        "\n",
        "print(det(A))"
      ],
      "metadata": {
        "colab": {
          "base_uri": "https://localhost:8080/"
        },
        "id": "vTv4HT0RE7ql",
        "outputId": "a036e72e-55c0-44c8-9f34-032fd55d9dc5"
      },
      "execution_count": null,
      "outputs": [
        {
          "output_type": "stream",
          "name": "stdout",
          "text": [
            "27\n"
          ]
        }
      ]
    },
    {
      "cell_type": "markdown",
      "source": [
        "## N - Queens"
      ],
      "metadata": {
        "id": "GvcfuvasB2Ys"
      }
    },
    {
      "cell_type": "code",
      "source": [
        ""
      ],
      "metadata": {
        "id": "v-fJ70T8B3e7"
      },
      "execution_count": null,
      "outputs": []
    },
    {
      "cell_type": "markdown",
      "source": [
        "## DP - Fibonnacci"
      ],
      "metadata": {
        "id": "w4nqWbhqXCsk"
      }
    },
    {
      "cell_type": "code",
      "source": [
        "N = 50\n",
        "fib = [1 for i in range(N)]\n",
        "for i in range(2, N):\n",
        "  fib[i] = fib[i-1] + fib[i-2]\n",
        "fib[N-1]"
      ],
      "metadata": {
        "colab": {
          "base_uri": "https://localhost:8080/"
        },
        "id": "dbd7VmbnXQCo",
        "outputId": "45225991-0ee0-4fc8-8035-5c20cd3de12a"
      },
      "execution_count": null,
      "outputs": [
        {
          "output_type": "execute_result",
          "data": {
            "text/plain": [
              "12586269025"
            ]
          },
          "metadata": {},
          "execution_count": 41
        }
      ]
    },
    {
      "cell_type": "code",
      "source": [
        "def fibonnacci(N):\n",
        "  if N == 1 or N == 0:\n",
        "    return 1\n",
        "  return fibonnacci(N-1) + fibonnacci(N-2)\n",
        "fibonnacci(N-1)"
      ],
      "metadata": {
        "id": "xIp-k-kwXw7B"
      },
      "execution_count": null,
      "outputs": []
    },
    {
      "cell_type": "code",
      "source": [
        ""
      ],
      "metadata": {
        "id": "cAMkWomMYXyQ"
      },
      "execution_count": null,
      "outputs": []
    }
  ]
}