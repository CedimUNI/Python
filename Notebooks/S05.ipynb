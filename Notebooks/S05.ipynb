{
  "nbformat": 4,
  "nbformat_minor": 0,
  "metadata": {
    "colab": {
      "name": "S05",
      "provenance": [],
      "collapsed_sections": []
    },
    "kernelspec": {
      "name": "python3",
      "display_name": "Python 3"
    },
    "language_info": {
      "name": "python"
    }
  },
  "cells": [
    {
      "cell_type": "code",
      "source": [
        "primero=\"Caleb\"\n",
        "segunda=primero\n",
        "print(id(segunda))\n",
        "print(id(primero))\n",
        "segunda=segunda+\" Hola\"\n",
        "print(id(segunda))\n",
        "print(id(primero))"
      ],
      "metadata": {
        "id": "hGPuYgHUua-m",
        "colab": {
          "base_uri": "https://localhost:8080/"
        },
        "outputId": "38378da6-6f29-4568-e450-04dfb1cf73fd"
      },
      "execution_count": null,
      "outputs": [
        {
          "output_type": "stream",
          "name": "stdout",
          "text": [
            "140533243950384\n",
            "140533243950384\n",
            "140533175796016\n",
            "140533243950384\n"
          ]
        }
      ]
    },
    {
      "cell_type": "code",
      "metadata": {
        "id": "0ncaj5ZlkSKN",
        "colab": {
          "base_uri": "https://localhost:8080/"
        },
        "outputId": "67202e35-0dc8-4c1a-9fb8-830520bc7e38"
      },
      "source": [
        "lista1=[1]\n",
        "lista2=lista1\n",
        "lista1[0]=2\n",
        "print(lista2)\n",
        "print(id(lista1))\n",
        "print(id(lista2))"
      ],
      "execution_count": null,
      "outputs": [
        {
          "output_type": "stream",
          "name": "stdout",
          "text": [
            "[2]\n",
            "140533030759872\n",
            "140533030759872\n"
          ]
        }
      ]
    },
    {
      "cell_type": "markdown",
      "source": [
        "# Lista sobre Listas\n"
      ],
      "metadata": {
        "id": "JaN6myY7yAEQ"
      }
    },
    {
      "cell_type": "markdown",
      "source": [
        "## Arreglos bidimencionales:"
      ],
      "metadata": {
        "id": "qjFXPI0A93Oj"
      }
    },
    {
      "cell_type": "code",
      "source": [
        "#Creando una fila de peones\n",
        "lista_peones=[]\n",
        "for i in range(8):\n",
        "  lista_peones.append(\"peón\")\n",
        "print(lista_peones)"
      ],
      "metadata": {
        "id": "eW655MS0yOSK",
        "colab": {
          "base_uri": "https://localhost:8080/"
        },
        "outputId": "18139093-3bdc-41b3-8d64-163d3ca93d9d"
      },
      "execution_count": null,
      "outputs": [
        {
          "output_type": "stream",
          "name": "stdout",
          "text": [
            "['peón', 'peón', 'peón', 'peón', 'peón', 'peón', 'peón', 'peón']\n"
          ]
        }
      ]
    },
    {
      "cell_type": "markdown",
      "source": [
        "### Comprensión de listas"
      ],
      "metadata": {
        "id": "BSjokq7fOtme"
      }
    },
    {
      "cell_type": "code",
      "source": [
        "#Creando un fila con comprensión de listas\n",
        "lista_peones=[\"peón\" for i in range(8)]\n",
        "print(lista_peones)"
      ],
      "metadata": {
        "id": "QZxZrDgiyasa",
        "colab": {
          "base_uri": "https://localhost:8080/"
        },
        "outputId": "38bd295d-9a9d-41f1-dac7-efe93eba8692"
      },
      "execution_count": null,
      "outputs": [
        {
          "output_type": "stream",
          "name": "stdout",
          "text": [
            "['peón', 'peón', 'peón', 'peón', 'peón', 'peón', 'peón', 'peón']\n"
          ]
        }
      ]
    },
    {
      "cell_type": "code",
      "source": [
        "lista_cuadrados=[x**2 for x in range(1,21)]\n",
        "print(lista_cuadrados)"
      ],
      "metadata": {
        "id": "ZIGBG-VUQMJh",
        "colab": {
          "base_uri": "https://localhost:8080/"
        },
        "outputId": "78969a85-4a1a-4372-ccb4-daa532632005"
      },
      "execution_count": null,
      "outputs": [
        {
          "output_type": "stream",
          "name": "stdout",
          "text": [
            "[1, 4, 9, 16, 25, 36, 49, 64, 81, 100, 121, 144, 169, 196, 225, 256, 289, 324, 361, 400]\n"
          ]
        }
      ]
    },
    {
      "cell_type": "code",
      "source": [
        "lista_pares=[numero for numero in range(1,31) if numero%2==0]\n",
        "print(lista_pares)"
      ],
      "metadata": {
        "id": "t2XVMtXdRa3a",
        "colab": {
          "base_uri": "https://localhost:8080/"
        },
        "outputId": "26d2d035-ee47-44d1-c4b8-37cf590ac737"
      },
      "execution_count": null,
      "outputs": [
        {
          "output_type": "stream",
          "name": "stdout",
          "text": [
            "[2, 4, 6, 8, 10, 12, 14, 16, 18, 20, 22, 24, 26, 28, 30]\n"
          ]
        }
      ]
    },
    {
      "cell_type": "markdown",
      "source": [
        "## Arreglos Bidimensionales"
      ],
      "metadata": {
        "id": "FelxDWVdTb5Y"
      }
    },
    {
      "cell_type": "code",
      "source": [
        "#Creando un Tablero vacio de ajedrez\n",
        "tablero=[]\n",
        "for i in range(8):\n",
        "  fila=[]\n",
        "  for j in range(8):\n",
        "    fila.append(\"-\")\n",
        "  tablero.append(fila)\n",
        "print(tablero)"
      ],
      "metadata": {
        "id": "oa2f6kinFHY_",
        "colab": {
          "base_uri": "https://localhost:8080/"
        },
        "outputId": "1f998ad3-d520-4dfc-db90-ba67b2b58384"
      },
      "execution_count": null,
      "outputs": [
        {
          "output_type": "stream",
          "name": "stdout",
          "text": [
            "[['-', '-', '-', '-', '-', '-', '-', '-'], ['-', '-', '-', '-', '-', '-', '-', '-'], ['-', '-', '-', '-', '-', '-', '-', '-'], ['-', '-', '-', '-', '-', '-', '-', '-'], ['-', '-', '-', '-', '-', '-', '-', '-'], ['-', '-', '-', '-', '-', '-', '-', '-'], ['-', '-', '-', '-', '-', '-', '-', '-'], ['-', '-', '-', '-', '-', '-', '-', '-']]\n"
          ]
        }
      ]
    },
    {
      "cell_type": "code",
      "source": [
        "#Creando un tablero con comprension de listas:\n",
        "tablero2=[]\n",
        "for i in range(8):\n",
        "  fila2=[\"-\" for i in range(8)]\n",
        "  tablero2.append(fila2)\n",
        "print(tablero2)"
      ],
      "metadata": {
        "id": "Uvau6UXTTbcJ",
        "colab": {
          "base_uri": "https://localhost:8080/"
        },
        "outputId": "87d10bf3-dd47-425e-917c-565aef760131"
      },
      "execution_count": null,
      "outputs": [
        {
          "output_type": "stream",
          "name": "stdout",
          "text": [
            "[['-', '-', '-', '-', '-', '-', '-', '-'], ['-', '-', '-', '-', '-', '-', '-', '-'], ['-', '-', '-', '-', '-', '-', '-', '-'], ['-', '-', '-', '-', '-', '-', '-', '-'], ['-', '-', '-', '-', '-', '-', '-', '-'], ['-', '-', '-', '-', '-', '-', '-', '-'], ['-', '-', '-', '-', '-', '-', '-', '-'], ['-', '-', '-', '-', '-', '-', '-', '-']]\n"
          ]
        }
      ]
    },
    {
      "cell_type": "code",
      "source": [
        "tablero3=[[\"-\" for i in range(8)] for i in range(8)]\n",
        "print(tablero3)"
      ],
      "metadata": {
        "id": "pemR6HEkUoCq",
        "colab": {
          "base_uri": "https://localhost:8080/"
        },
        "outputId": "afd19bf3-17c8-4d14-fe64-b506ec0e9b9e"
      },
      "execution_count": null,
      "outputs": [
        {
          "output_type": "stream",
          "name": "stdout",
          "text": [
            "[['-', '-', '-', '-', '-', '-', '-', '-'], ['-', '-', '-', '-', '-', '-', '-', '-'], ['-', '-', '-', '-', '-', '-', '-', '-'], ['-', '-', '-', '-', '-', '-', '-', '-'], ['-', '-', '-', '-', '-', '-', '-', '-'], ['-', '-', '-', '-', '-', '-', '-', '-'], ['-', '-', '-', '-', '-', '-', '-', '-'], ['-', '-', '-', '-', '-', '-', '-', '-']]\n"
          ]
        }
      ]
    },
    {
      "cell_type": "code",
      "source": [
        "#Modificando el tablero:\n",
        "tablero[0][0]=\"Torre\"\n",
        "tablero[0][7]=\"Torre\"\n",
        "tablero[7][0]=\"Torre\"\n",
        "tablero[7][7]=\"Torre\"\n",
        "print(tablero)"
      ],
      "metadata": {
        "id": "lYzfngifvNBg",
        "colab": {
          "base_uri": "https://localhost:8080/"
        },
        "outputId": "cd79f8d1-2b89-4682-a0f2-985d343543af"
      },
      "execution_count": null,
      "outputs": [
        {
          "output_type": "stream",
          "name": "stdout",
          "text": [
            "[['Torre', '-', '-', '-', '-', '-', '-', 'Torre'], ['-', '-', '-', '-', '-', '-', '-', '-'], ['-', '-', '-', '-', '-', '-', '-', '-'], ['-', '-', '-', '-', '-', '-', '-', '-'], ['-', '-', '-', '-', '-', '-', '-', '-'], ['-', '-', '-', '-', '-', '-', '-', '-'], ['-', '-', '-', '-', '-', '-', '-', '-'], ['Torre', '-', '-', '-', '-', '-', '-', 'Torre']]\n"
          ]
        }
      ]
    },
    {
      "cell_type": "markdown",
      "source": [
        "## Arreglos tridimensionales"
      ],
      "metadata": {
        "id": "-n79124hYAZC"
      }
    },
    {
      "cell_type": "code",
      "source": [
        "cubo=[[[1,2,3],\n",
        "       [4,5,6],\n",
        "       [7,8,9]],\n",
        "      [[10,11,12],\n",
        "       [13,14,15],\n",
        "       [16,17,18]],\n",
        "      [[19,20,21],\n",
        "       [22,23,24],\n",
        "       [25,26,27]]]\n",
        "print(cubo)"
      ],
      "metadata": {
        "id": "33QnOnYcYGyB",
        "colab": {
          "base_uri": "https://localhost:8080/"
        },
        "outputId": "40ca2b03-7896-4f59-9dff-eda1d23a372c"
      },
      "execution_count": null,
      "outputs": [
        {
          "output_type": "stream",
          "name": "stdout",
          "text": [
            "[[[1, 2, 3], [4, 5, 6], [7, 8, 9]], [[10, 11, 12], [13, 14, 15], [16, 17, 18]], [[19, 20, 21], [22, 23, 24], [25, 26, 27]]]\n"
          ]
        }
      ]
    },
    {
      "cell_type": "markdown",
      "source": [
        "# Funciones:\n",
        "\n",
        "* Definiendo funciones en Python:\n",
        "\n",
        "Permite segmentar un programa complejo, o también llamado\n",
        "modularizar\n",
        "\n",
        "* Permite reutilizar la misma función\n",
        "\n",
        "* Las funciones pueden ser creadas en cualquier punto del programa.\n",
        "Se debe definir la función antes de usarla"
      ],
      "metadata": {
        "id": "rP_cOi_XDDh1"
      }
    },
    {
      "cell_type": "code",
      "source": [
        "def nombre(num):\n",
        "  x = num**2\n",
        "  return x\n",
        "\n",
        "nombre(4)"
      ],
      "metadata": {
        "id": "KlynVpJtDF2d"
      },
      "execution_count": null,
      "outputs": []
    },
    {
      "cell_type": "markdown",
      "source": [
        "# Argumentos y Parametros:\n",
        "* Los parámetros son atributos de la función, puede ser de una cantidad ilimitada, los valores\n",
        "que se reciben al definir la función se les denomina parámetros.\n",
        "\n",
        "* Durante la llamada de la función, los valores que se envían se denominan argumentos."
      ],
      "metadata": {
        "id": "1JVCe9IUzuJn"
      }
    },
    {
      "cell_type": "markdown",
      "source": [
        "## Añadiremos parámetros a la función"
      ],
      "metadata": {
        "id": "RYfuKIkUbvuv"
      }
    },
    {
      "cell_type": "code",
      "source": [
        "def nombre(num):\n",
        "  x = num**2\n",
        "  return x\n",
        "\n",
        "nombre(4)"
      ],
      "metadata": {
        "id": "FQ1NvOiMAYYE"
      },
      "execution_count": null,
      "outputs": []
    },
    {
      "cell_type": "markdown",
      "source": [
        "##Tipos de funciones\n",
        "- Funciones definidas por el usuario\n",
        "- Funciones de Módulos pre-instalados\n",
        "- Funciones Lambda"
      ],
      "metadata": {
        "id": "LPbq762Pri0Z"
      }
    },
    {
      "cell_type": "markdown",
      "source": [
        "## Paso de parámetros posicionales:\n",
        "Los argumentos enviados a una función se reciben según el orden en el que se\n",
        "encuentran los parámetros. A estos argumentos se le llaman argumentos\n",
        "posicionales."
      ],
      "metadata": {
        "id": "6_8qNo2ovnUk"
      }
    },
    {
      "cell_type": "code",
      "source": [
        "def resta(a,b):\n",
        "  print(a-b)\n",
        "\n",
        "resta(2,4)\n",
        "resta(4,2)"
      ],
      "metadata": {
        "id": "QzJ0hQgkvrWc",
        "colab": {
          "base_uri": "https://localhost:8080/"
        },
        "outputId": "d1169387-5048-44a6-a04a-f6383d516e3b"
      },
      "execution_count": null,
      "outputs": [
        {
          "output_type": "stream",
          "name": "stdout",
          "text": [
            "-2\n",
            "2\n"
          ]
        }
      ]
    },
    {
      "cell_type": "markdown",
      "source": [
        "## Paso de parámetros por nombre:\n",
        "Los argumentos son enviados a una función y su significado es definido por el\n",
        "nombre."
      ],
      "metadata": {
        "id": "U1g4-UcSvtQ8"
      }
    },
    {
      "cell_type": "code",
      "source": [
        "def grafico(color, ancho, borde):\n",
        "  print('El color seleccionado es',color)\n",
        "  print('El ancho seleccionado es', ancho)\n",
        "  print('Borde seleccionado es',borde)\n",
        "\n",
        "grafico(borde='punteado',ancho='0.5',color='amarillo')"
      ],
      "metadata": {
        "id": "OztCc4KUv2C1",
        "colab": {
          "base_uri": "https://localhost:8080/"
        },
        "outputId": "2195bcb2-5b68-48d9-dccd-709f577953db"
      },
      "execution_count": null,
      "outputs": [
        {
          "output_type": "stream",
          "name": "stdout",
          "text": [
            "El color seleccionado es amarillo\n",
            "El ancho seleccionado es 0.5\n",
            "Borde seleccionado es punteado\n"
          ]
        }
      ]
    },
    {
      "cell_type": "markdown",
      "source": [
        "##Paso de parametros posicionales y por nombre:\n",
        "Combinar argumentos de palabra clave y posicionales es posible, pero debe\n",
        "primero colocarse los argumentos posicionales y luego los de palabra clave."
      ],
      "metadata": {
        "id": "N4jBnN5KIitY"
      }
    },
    {
      "cell_type": "code",
      "source": [
        "def f(x1,y1,x2,y2):\n",
        "  return((x1-x2)**2 + (y1-y2)**2)**0.5\n",
        "\n",
        "print(f(4,3,y2=1,x2=2))"
      ],
      "metadata": {
        "id": "nxaD0IykIlMo",
        "colab": {
          "base_uri": "https://localhost:8080/"
        },
        "outputId": "47f091b3-9e2f-4833-8db4-21f251853aee"
      },
      "execution_count": null,
      "outputs": [
        {
          "output_type": "stream",
          "name": "stdout",
          "text": [
            "2.8284271247461903\n"
          ]
        }
      ]
    },
    {
      "cell_type": "markdown",
      "source": [
        "## *args:\n",
        "Una función que tenga un número indeterminado de parámetros por posición, se\n",
        "coloca el \\* para definir el parametro y una palabra. Usualmente se le usa \\*args. La\n",
        "función recibirá una tupla de argumentos."
      ],
      "metadata": {
        "id": "jqGLBp0dQLa8"
      }
    },
    {
      "cell_type": "code",
      "source": [
        "def parametros_posicion(*args):\n",
        "  for i in args:\n",
        "    print(i,'',i)\n",
        "\n",
        "parametros_posicion(1,2,'tres',4)"
      ],
      "metadata": {
        "id": "sCx52kUsQOoj",
        "colab": {
          "base_uri": "https://localhost:8080/"
        },
        "outputId": "831c461f-483e-44f9-d02d-0bfa11f91a2e"
      },
      "execution_count": null,
      "outputs": [
        {
          "output_type": "stream",
          "name": "stdout",
          "text": [
            "1  1\n",
            "2  2\n",
            "tres  tres\n",
            "4  4\n"
          ]
        }
      ]
    },
    {
      "cell_type": "markdown",
      "source": [
        "## **kwargs:\n",
        "Una función que tenga un número indeterminado de parámetros por nombre o\n",
        "clave, se coloca el \\*\\* para definir el parametro y una palabra. Usualmente se le usa\n",
        "\\*\\*kwargs. La función recibirá un diccionario de argumentos."
      ],
      "metadata": {
        "id": "9Wpnz88Mi5yW"
      }
    },
    {
      "cell_type": "code",
      "source": [
        "def parametros_clave(**kwargs):\n",
        "  for i in kwargs:\n",
        "    print(i , '->', kwargs[i])\n",
        "\n",
        "parametros_clave(uno='1',dos='2',tres='3')"
      ],
      "metadata": {
        "id": "ZFenOuY5i8cV",
        "colab": {
          "base_uri": "https://localhost:8080/"
        },
        "outputId": "f7df14ff-18fa-4d7f-efcb-9df3910dd599"
      },
      "execution_count": null,
      "outputs": [
        {
          "output_type": "stream",
          "name": "stdout",
          "text": [
            "uno -> 1\n",
            "dos -> 2\n",
            "tres -> 3\n"
          ]
        }
      ]
    },
    {
      "cell_type": "markdown",
      "source": [
        " ## `*arg` y `**kwarg` "
      ],
      "metadata": {
        "id": "FfEq27BNjBFJ"
      }
    },
    {
      "cell_type": "code",
      "source": [
        "def ambos(*args,**kwargs):\n",
        "  total = 0\n",
        "  for i in args:\n",
        "      total+=i\n",
        "  print('sumas ->',total)\n",
        "  for j in kwargs:\n",
        "    print(j ,'->', kwargs[j])\n",
        "\n",
        "ambos(1,2,3,4,nombre='Malena',edad='18')"
      ],
      "metadata": {
        "id": "stS0EsFRjiW9",
        "colab": {
          "base_uri": "https://localhost:8080/"
        },
        "outputId": "b6f63e70-a308-48bf-c7c3-d8d7d04568b4"
      },
      "execution_count": null,
      "outputs": [
        {
          "output_type": "stream",
          "name": "stdout",
          "text": [
            "sumas -> 10\n",
            "nombre -> Malena\n",
            "edad -> 18\n"
          ]
        }
      ]
    },
    {
      "cell_type": "markdown",
      "source": [
        "## Return:\n",
        "Una función es capaz de devolver un objeto de cualquier tipo, por defecto, devuelve\n",
        "None. Pero podemos utilizar la instrucción return para devolver un valor. Esta palabra reservada también provoca la terminación inmediata de la función. "
      ],
      "metadata": {
        "id": "vbLCCzCZvrpc"
      }
    },
    {
      "cell_type": "code",
      "source": [
        "def suma(a,b):\n",
        "  print(a+b)\n",
        "\n",
        "a = suma(1,2)\n",
        "print(a+5)"
      ],
      "metadata": {
        "id": "DhVQUJeqEwlx",
        "colab": {
          "base_uri": "https://localhost:8080/",
          "height": 217
        },
        "outputId": "7f6bdd21-a121-4547-cb7b-1a1ca1d1a0ab"
      },
      "execution_count": null,
      "outputs": [
        {
          "output_type": "stream",
          "name": "stdout",
          "text": [
            "3\n"
          ]
        },
        {
          "output_type": "error",
          "ename": "TypeError",
          "evalue": "ignored",
          "traceback": [
            "\u001b[0;31m---------------------------------------------------------------------------\u001b[0m",
            "\u001b[0;31mTypeError\u001b[0m                                 Traceback (most recent call last)",
            "\u001b[0;32m<ipython-input-7-277ff7717f23>\u001b[0m in \u001b[0;36m<module>\u001b[0;34m()\u001b[0m\n\u001b[1;32m      3\u001b[0m \u001b[0;34m\u001b[0m\u001b[0m\n\u001b[1;32m      4\u001b[0m \u001b[0ma\u001b[0m \u001b[0;34m=\u001b[0m \u001b[0msuma\u001b[0m\u001b[0;34m(\u001b[0m\u001b[0;36m1\u001b[0m\u001b[0;34m,\u001b[0m\u001b[0;36m2\u001b[0m\u001b[0;34m)\u001b[0m\u001b[0;34m\u001b[0m\u001b[0;34m\u001b[0m\u001b[0m\n\u001b[0;32m----> 5\u001b[0;31m \u001b[0mprint\u001b[0m\u001b[0;34m(\u001b[0m\u001b[0ma\u001b[0m\u001b[0;34m+\u001b[0m\u001b[0;36m5\u001b[0m\u001b[0;34m)\u001b[0m\u001b[0;34m\u001b[0m\u001b[0;34m\u001b[0m\u001b[0m\n\u001b[0m",
            "\u001b[0;31mTypeError\u001b[0m: unsupported operand type(s) for +: 'NoneType' and 'int'"
          ]
        }
      ]
    },
    {
      "cell_type": "code",
      "source": [
        "def area_rectangulo(a,b):\n",
        "  return a*b\n",
        "\n",
        "c = area_rectangulo(2,5)\n",
        "print(c+7)"
      ],
      "metadata": {
        "id": "ddTHuHOs-eDi",
        "colab": {
          "base_uri": "https://localhost:8080/"
        },
        "outputId": "1dd16999-a1ce-4c77-ac49-93c1aa92bca8"
      },
      "execution_count": null,
      "outputs": [
        {
          "output_type": "stream",
          "name": "stdout",
          "text": [
            "17\n"
          ]
        }
      ]
    },
    {
      "cell_type": "code",
      "source": [
        "def curso():\n",
        "  print('Felicidades por seguir en el curso de Python')\n",
        "  return\n",
        "  print('Esto es despues del return')\n",
        "\n",
        "curso()"
      ],
      "metadata": {
        "id": "CS493yxLZqUl",
        "colab": {
          "base_uri": "https://localhost:8080/"
        },
        "outputId": "efca691f-348c-4a87-fe7b-c6643846d48b"
      },
      "execution_count": null,
      "outputs": [
        {
          "output_type": "stream",
          "name": "stdout",
          "text": [
            "Felicidades por seguir en el curso de Python\n"
          ]
        }
      ]
    },
    {
      "cell_type": "code",
      "source": [
        "def curso(a=True):\n",
        "  print('Felicidades por seguir en el curso de Python')\n",
        "  if a == False:\n",
        "    return\n",
        "  print('Esto es después del return')\n",
        "\n",
        "curso(a=3<1)"
      ],
      "metadata": {
        "id": "Emox7R-1Yosd",
        "colab": {
          "base_uri": "https://localhost:8080/"
        },
        "outputId": "374d3dee-6154-4343-b2c6-bf75dc246e94"
      },
      "execution_count": null,
      "outputs": [
        {
          "output_type": "stream",
          "name": "stdout",
          "text": [
            "Felicidades por seguir en el curso de Python\n"
          ]
        }
      ]
    },
    {
      "cell_type": "markdown",
      "source": [
        "## Retorno múltiple:\n",
        "Las funciones pueden retornar una serie de valores en forma de tupla, para ello se retornan\n",
        "los múltiples valores separados por comas."
      ],
      "metadata": {
        "id": "lT5pxsFCo-3o"
      }
    },
    {
      "cell_type": "code",
      "source": [
        "def multiple():\n",
        "  return 1,2,'hola',['lista','lista1']\n",
        "\n",
        "a,b,c,d = multiple()\n",
        "\n",
        "print(type(multiple()))\n",
        "\n",
        "print(a)\n",
        "print(b)\n",
        "print(c)\n",
        "print(d)"
      ],
      "metadata": {
        "id": "pm8D7sVppAeo",
        "colab": {
          "base_uri": "https://localhost:8080/"
        },
        "outputId": "1b2ddb48-c523-4e12-bca6-2d0aeef6e555"
      },
      "execution_count": null,
      "outputs": [
        {
          "output_type": "stream",
          "name": "stdout",
          "text": [
            "<class 'tuple'>\n",
            "1\n",
            "2\n",
            "hola\n",
            "['lista', 'lista1']\n"
          ]
        }
      ]
    },
    {
      "cell_type": "markdown",
      "source": [
        "## Las funciones y sus scopes:\n",
        " * **Variables locales**:Los parámetros y aquellas variables asignadas en una función existen en el ámbito\n",
        "local de la función.\n",
        "\n",
        "* **Variables globales**:Las variables asignadas fuera de las funciones existen en el ámbito global.\n",
        "\n",
        "\n",
        "Una variable que existe fuera de una función tiene alcance dentro del cuerpo de la\n",
        "función.\n",
        "El alcance del parámetro de una función es la función misma."
      ],
      "metadata": {
        "id": "AchpdSChAUGv"
      }
    },
    {
      "cell_type": "code",
      "source": [
        "def scope():\n",
        "  r=True\n",
        "\n",
        "scope()\n",
        "print(r)"
      ],
      "metadata": {
        "id": "Jo_QMLjCAX8_"
      },
      "execution_count": null,
      "outputs": []
    },
    {
      "cell_type": "code",
      "source": [
        "def scope2():\n",
        "  print(n*2)\n",
        "\n",
        "n = 'hola'\n",
        "scope2()"
      ],
      "metadata": {
        "id": "ZYhzIVoECbMB",
        "colab": {
          "base_uri": "https://localhost:8080/"
        },
        "outputId": "bb65f98f-9425-4c24-c76d-cfe06be9aee3"
      },
      "execution_count": null,
      "outputs": [
        {
          "output_type": "stream",
          "name": "stdout",
          "text": [
            "holahola\n"
          ]
        }
      ]
    },
    {
      "cell_type": "markdown",
      "source": [
        "## excepción de los scopes:"
      ],
      "metadata": {
        "id": "kHZkVmIyDnGb"
      }
    },
    {
      "cell_type": "code",
      "source": [
        "def excepcion():\n",
        "  a=12\n",
        "  print(a*2)\n",
        "\n",
        "a = 'numero'\n",
        "excepcion()\n",
        "print(a*2)"
      ],
      "metadata": {
        "id": "ZTsDJe2iDpL5",
        "colab": {
          "base_uri": "https://localhost:8080/"
        },
        "outputId": "ec725199-a698-436d-a24a-1f2db7196006"
      },
      "execution_count": null,
      "outputs": [
        {
          "output_type": "stream",
          "name": "stdout",
          "text": [
            "24\n",
            "numeronumero\n"
          ]
        }
      ]
    },
    {
      "cell_type": "markdown",
      "source": [
        "## Paso por valor:\n",
        "El paso por valor se aplica para los tipos de datos inmutables: enteros, flotantes,\n",
        "cadenas, booleanos, tuplas.\n",
        "\n",
        "\n",
        "Se crea una copia local de la variable global. Es decir, cualquier cambio\n",
        "realizado dentro de la función NO afectará al valor de la variable ingresada como\n",
        "argumento pues estos cambios se realizaron en una copia."
      ],
      "metadata": {
        "id": "PrDBfOgiAa4f"
      }
    },
    {
      "cell_type": "code",
      "source": [
        "def invertir(x):\n",
        "  x = 1/x\n",
        "\n",
        "n = 10\n",
        "invertir(n)\n",
        "print(n)"
      ],
      "metadata": {
        "id": "KTZh8VmlG0LD",
        "colab": {
          "base_uri": "https://localhost:8080/"
        },
        "outputId": "90d9f17c-410c-4b27-901f-7fabb12fd67e"
      },
      "execution_count": null,
      "outputs": [
        {
          "output_type": "stream",
          "name": "stdout",
          "text": [
            "10\n"
          ]
        }
      ]
    },
    {
      "cell_type": "code",
      "source": [
        "def DiHola(s):\n",
        "  s = \"Hola\" + s\n",
        "\n",
        "s = \"Malena\"\n",
        "DiHola(s)\n",
        "print(s)"
      ],
      "metadata": {
        "id": "Wgf6PJ2rGZNe",
        "colab": {
          "base_uri": "https://localhost:8080/"
        },
        "outputId": "2c769d03-04ed-42b7-f8d7-21feb2f17532"
      },
      "execution_count": null,
      "outputs": [
        {
          "output_type": "stream",
          "name": "stdout",
          "text": [
            "Malena\n"
          ]
        }
      ]
    },
    {
      "cell_type": "markdown",
      "source": [
        "Para poder modificar la varible global, se le vuelve a asignar su valor"
      ],
      "metadata": {
        "id": "CcLrKJcstVoV"
      }
    },
    {
      "cell_type": "code",
      "source": [
        "def invertir(x):\n",
        "  return 1/x\n",
        "\n",
        "n = 10\n",
        "n = invertir(n)\n",
        "print(n)"
      ],
      "metadata": {
        "id": "hdJc98LRtZvV",
        "colab": {
          "base_uri": "https://localhost:8080/"
        },
        "outputId": "50f6f274-bbeb-49ea-d6f2-5481e850029c"
      },
      "execution_count": null,
      "outputs": [
        {
          "output_type": "stream",
          "name": "stdout",
          "text": [
            "0.1\n"
          ]
        }
      ]
    },
    {
      "cell_type": "code",
      "source": [
        "def DiHola(s):\n",
        "  return \"Hola \" +s\n",
        "\n",
        "s = \"Malena\"\n",
        "s = DiHola(s)\n",
        "print(s)"
      ],
      "metadata": {
        "id": "CYsdARmTtiYX",
        "colab": {
          "base_uri": "https://localhost:8080/"
        },
        "outputId": "af05f4f3-b649-488b-d59e-86138baec2a4"
      },
      "execution_count": null,
      "outputs": [
        {
          "output_type": "stream",
          "name": "stdout",
          "text": [
            "Hola Malena\n"
          ]
        }
      ]
    },
    {
      "cell_type": "markdown",
      "source": [
        "## Paso por referencia:\n",
        "Se modifica directamente a la variable global, es decir, los cambios realizados\n",
        "dentro de la función afectarán también fuera de ella.\n",
        "El paso por referencia se aplica a los tipos de datos mutables: listas, diccionarios,\n",
        "conjuntos"
      ],
      "metadata": {
        "id": "f7yno1xUAcnH"
      }
    },
    {
      "cell_type": "code",
      "source": [
        "def CambiaSigno(l):\n",
        "  for i in range(len(l)):\n",
        "    l[i] *= -1\n",
        "\n",
        "numbers = [1,2,3,4]\n",
        "CambiaSigno(numbers)\n",
        "print(numbers)"
      ],
      "metadata": {
        "id": "-37--RuOHCz8",
        "colab": {
          "base_uri": "https://localhost:8080/"
        },
        "outputId": "d0be8a45-7853-47fc-9493-9e5630498580"
      },
      "execution_count": null,
      "outputs": [
        {
          "output_type": "stream",
          "name": "stdout",
          "text": [
            "[-1, -2, -3, -4]\n"
          ]
        }
      ]
    },
    {
      "cell_type": "markdown",
      "source": [
        "## Funcion enumerate"
      ],
      "metadata": {
        "id": "xYdHGiCbNhVg"
      }
    },
    {
      "cell_type": "code",
      "source": [
        "m,i,a = list(enumerate(['uno','dos','collar']))\n",
        "print(type(m))\n",
        "print(m)\n",
        "print(i)\n",
        "print(a)"
      ],
      "metadata": {
        "id": "BPfLs9YkNiso",
        "colab": {
          "base_uri": "https://localhost:8080/"
        },
        "outputId": "a0a5db29-0aad-4b3b-a0f6-c3c89322f00a"
      },
      "execution_count": null,
      "outputs": [
        {
          "output_type": "stream",
          "name": "stdout",
          "text": [
            "<class 'tuple'>\n",
            "(0, 'uno')\n",
            "(1, 'dos')\n",
            "(2, 'collar')\n"
          ]
        }
      ]
    },
    {
      "cell_type": "code",
      "source": [
        "def CambiaSigno(l):\n",
        "  for i,n in enumerate(l):\n",
        "    l[i] *= -1\n",
        "\n",
        "numbers = [1,2,3]\n",
        "CambiaSigno(numbers)\n",
        "print(numbers)"
      ],
      "metadata": {
        "id": "tXyFcyPMGzVi",
        "colab": {
          "base_uri": "https://localhost:8080/"
        },
        "outputId": "eb1450fc-4fbc-4c54-9ba1-a96bb4d00f12"
      },
      "execution_count": null,
      "outputs": [
        {
          "output_type": "stream",
          "name": "stdout",
          "text": [
            "[-1, -2, -3]\n"
          ]
        }
      ]
    },
    {
      "cell_type": "markdown",
      "source": [
        "#Funciones anónimas"
      ],
      "metadata": {
        "id": "jsZuMSequIxV"
      }
    },
    {
      "cell_type": "markdown",
      "source": [
        "## Funciones lambda\n",
        "Son aquellas funciones que no tienen nombre, ya que python permite ejecutar una\n",
        "función sin definirla con def. Estas funciones no aceptan un bloque de acciones,\n",
        "sino que solo pueden ser una expresión única. Una única línea de código.\n",
        "\n",
        "Estas funciones se implementan con las funciones lambda.\n",
        "```\n",
        "lambda parametros : expresión\n",
        "```\n",
        "Son aquellas funciones que contienen una sola línea de código y no necesitan de\n",
        "un nombre. Pero para utilizar la función debemos guardarla en una variable."
      ],
      "metadata": {
        "id": "fv0EspU0y3en"
      }
    },
    {
      "cell_type": "code",
      "source": [
        "def palindromo(word):\n",
        "  word = word.replace(' ','')\n",
        "  word = word.lower()\n",
        "  if word == word[::-1]:\n",
        "    return True\n",
        "  else:\n",
        "    return False\n",
        "  \n",
        "palindromo('Amo la paloma')"
      ],
      "metadata": {
        "id": "eQFNw9Lszx-c",
        "colab": {
          "base_uri": "https://localhost:8080/"
        },
        "outputId": "f9e3536f-e6ee-44f3-c626-260506a5bd51"
      },
      "execution_count": null,
      "outputs": [
        {
          "output_type": "execute_result",
          "data": {
            "text/plain": [
              "True"
            ]
          },
          "metadata": {},
          "execution_count": 25
        }
      ]
    },
    {
      "cell_type": "code",
      "source": [
        "def palindromo(word):\n",
        "  return(word==word[::-1])\n",
        "\n",
        "palindromo('arenera')"
      ],
      "metadata": {
        "id": "VAvxIvbm9yGR",
        "colab": {
          "base_uri": "https://localhost:8080/"
        },
        "outputId": "242a21dd-9c4b-43ea-ffa7-c62a2b46018a"
      },
      "execution_count": null,
      "outputs": [
        {
          "output_type": "execute_result",
          "data": {
            "text/plain": [
              "True"
            ]
          },
          "metadata": {},
          "execution_count": 26
        }
      ]
    },
    {
      "cell_type": "code",
      "source": [
        "palindromo = lambda string: string == string[::-1]\n",
        "\n",
        "palindromo('arenera')"
      ],
      "metadata": {
        "id": "I_oBHv4J8sID",
        "colab": {
          "base_uri": "https://localhost:8080/"
        },
        "outputId": "7a6491aa-c9cf-43f5-833b-7ae594b06af6"
      },
      "execution_count": null,
      "outputs": [
        {
          "output_type": "execute_result",
          "data": {
            "text/plain": [
              "True"
            ]
          },
          "metadata": {},
          "execution_count": 27
        }
      ]
    },
    {
      "cell_type": "markdown",
      "source": [
        "## Funciones lambda ejemplos matemáticos"
      ],
      "metadata": {
        "id": "2WkD_hmDLKgE"
      }
    },
    {
      "cell_type": "code",
      "source": [
        "f = lambda x: x**4 - 23*x+1\n",
        "f(10)"
      ],
      "metadata": {
        "id": "RR_BG_CFLNS0",
        "colab": {
          "base_uri": "https://localhost:8080/"
        },
        "outputId": "f89b852b-15c1-4483-ae04-96addae6a7b0"
      },
      "execution_count": null,
      "outputs": [
        {
          "output_type": "execute_result",
          "data": {
            "text/plain": [
              "9771"
            ]
          },
          "metadata": {},
          "execution_count": 31
        }
      ]
    },
    {
      "cell_type": "code",
      "source": [
        "f = lambda x,y: x*y+2*x\n",
        "\n",
        "f(3,4)"
      ],
      "metadata": {
        "id": "ijcVIpE4Lgev",
        "colab": {
          "base_uri": "https://localhost:8080/"
        },
        "outputId": "485f7359-e5a2-4086-f489-30cb66d0745c"
      },
      "execution_count": null,
      "outputs": [
        {
          "output_type": "execute_result",
          "data": {
            "text/plain": [
              "18"
            ]
          },
          "metadata": {},
          "execution_count": 32
        }
      ]
    },
    {
      "cell_type": "markdown",
      "source": [
        "## Funciones recursivas:\n",
        "Son aquellas funciones que se llaman a si mismas durante la ejecución de la\n",
        "función."
      ],
      "metadata": {
        "id": "Vt0PqBMGhaOl"
      }
    },
    {
      "cell_type": "code",
      "source": [
        "def factorial(n):\n",
        "  if n==0:\n",
        "    return 1\n",
        "  elif type(n) != int:\n",
        "    return None\n",
        "  elif n>0:\n",
        "    return n*factorial(n-1)\n",
        "\n",
        "print(factorial(4))\n",
        "print(factorial(0))\n",
        "print(factorial(-1))\n",
        "print(factorial(0.5))"
      ],
      "metadata": {
        "id": "ugAkZMYOhb-z",
        "colab": {
          "base_uri": "https://localhost:8080/"
        },
        "outputId": "555eac37-062a-4b2b-a3d1-d3ca7681f36c"
      },
      "execution_count": null,
      "outputs": [
        {
          "output_type": "stream",
          "name": "stdout",
          "text": [
            "24\n",
            "1\n",
            "None\n",
            "None\n"
          ]
        }
      ]
    },
    {
      "cell_type": "code",
      "source": [
        "def fib(n):\n",
        "  if n<1:\n",
        "    return None\n",
        "  if n<3:\n",
        "    return 1\n",
        "  return fib(n-1)+fib(n-2)\n",
        "\n",
        "fib(10)\n"
      ],
      "metadata": {
        "id": "_GJaCNWLJFc8",
        "colab": {
          "base_uri": "https://localhost:8080/"
        },
        "outputId": "fb8a48cf-d4dd-44f7-ec3d-7241a3332157"
      },
      "execution_count": null,
      "outputs": [
        {
          "output_type": "execute_result",
          "data": {
            "text/plain": [
              "55"
            ]
          },
          "metadata": {},
          "execution_count": 36
        }
      ]
    },
    {
      "cell_type": "markdown",
      "source": [
        "# Manejo de excepciones"
      ],
      "metadata": {
        "id": "zZB-ayYTL065"
      }
    },
    {
      "cell_type": "code",
      "source": [
        "def spam(x):\n",
        "  return 10/x\n",
        "\n",
        "print(spam(1))\n",
        "print(spam(0))"
      ],
      "metadata": {
        "id": "_M6aW1TMuv5o",
        "colab": {
          "base_uri": "https://localhost:8080/",
          "height": 338
        },
        "outputId": "190d9b3f-84a0-4272-8714-8a13f1d4f8dc"
      },
      "execution_count": null,
      "outputs": [
        {
          "output_type": "stream",
          "name": "stdout",
          "text": [
            "10.0\n"
          ]
        },
        {
          "output_type": "error",
          "ename": "ZeroDivisionError",
          "evalue": "ignored",
          "traceback": [
            "\u001b[0;31m---------------------------------------------------------------------------\u001b[0m",
            "\u001b[0;31mZeroDivisionError\u001b[0m                         Traceback (most recent call last)",
            "\u001b[0;32m<ipython-input-37-6d0eeb47a9c7>\u001b[0m in \u001b[0;36m<module>\u001b[0;34m()\u001b[0m\n\u001b[1;32m      3\u001b[0m \u001b[0;34m\u001b[0m\u001b[0m\n\u001b[1;32m      4\u001b[0m \u001b[0mprint\u001b[0m\u001b[0;34m(\u001b[0m\u001b[0mspam\u001b[0m\u001b[0;34m(\u001b[0m\u001b[0;36m1\u001b[0m\u001b[0;34m)\u001b[0m\u001b[0;34m)\u001b[0m\u001b[0;34m\u001b[0m\u001b[0;34m\u001b[0m\u001b[0m\n\u001b[0;32m----> 5\u001b[0;31m \u001b[0mprint\u001b[0m\u001b[0;34m(\u001b[0m\u001b[0mspam\u001b[0m\u001b[0;34m(\u001b[0m\u001b[0;36m0\u001b[0m\u001b[0;34m)\u001b[0m\u001b[0;34m)\u001b[0m\u001b[0;34m\u001b[0m\u001b[0;34m\u001b[0m\u001b[0m\n\u001b[0m",
            "\u001b[0;32m<ipython-input-37-6d0eeb47a9c7>\u001b[0m in \u001b[0;36mspam\u001b[0;34m(x)\u001b[0m\n\u001b[1;32m      1\u001b[0m \u001b[0;32mdef\u001b[0m \u001b[0mspam\u001b[0m\u001b[0;34m(\u001b[0m\u001b[0mx\u001b[0m\u001b[0;34m)\u001b[0m\u001b[0;34m:\u001b[0m\u001b[0;34m\u001b[0m\u001b[0;34m\u001b[0m\u001b[0m\n\u001b[0;32m----> 2\u001b[0;31m   \u001b[0;32mreturn\u001b[0m \u001b[0;36m10\u001b[0m\u001b[0;34m/\u001b[0m\u001b[0mx\u001b[0m\u001b[0;34m\u001b[0m\u001b[0;34m\u001b[0m\u001b[0m\n\u001b[0m\u001b[1;32m      3\u001b[0m \u001b[0;34m\u001b[0m\u001b[0m\n\u001b[1;32m      4\u001b[0m \u001b[0mprint\u001b[0m\u001b[0;34m(\u001b[0m\u001b[0mspam\u001b[0m\u001b[0;34m(\u001b[0m\u001b[0;36m1\u001b[0m\u001b[0;34m)\u001b[0m\u001b[0;34m)\u001b[0m\u001b[0;34m\u001b[0m\u001b[0;34m\u001b[0m\u001b[0m\n\u001b[1;32m      5\u001b[0m \u001b[0mprint\u001b[0m\u001b[0;34m(\u001b[0m\u001b[0mspam\u001b[0m\u001b[0;34m(\u001b[0m\u001b[0;36m0\u001b[0m\u001b[0;34m)\u001b[0m\u001b[0;34m)\u001b[0m\u001b[0;34m\u001b[0m\u001b[0;34m\u001b[0m\u001b[0m\n",
            "\u001b[0;31mZeroDivisionError\u001b[0m: division by zero"
          ]
        }
      ]
    },
    {
      "cell_type": "code",
      "source": [
        "def spam(x):\n",
        "  try:\n",
        "    return (1/x)**2\n",
        "  except ZeroDivisionError:\n",
        "    print('',end='')\n",
        "\n",
        "print(spam(1))\n",
        "print(spam(0))\n",
        "print(spam(2))\n"
      ],
      "metadata": {
        "id": "lCgANX5wL2uh",
        "colab": {
          "base_uri": "https://localhost:8080/"
        },
        "outputId": "110314ff-bfa4-475d-fb5b-0956ee2b525a"
      },
      "execution_count": null,
      "outputs": [
        {
          "output_type": "stream",
          "name": "stdout",
          "text": [
            "1.0\n",
            "None\n",
            "0.25\n"
          ]
        }
      ]
    },
    {
      "cell_type": "markdown",
      "source": [
        "## Ejercicio 1:\n",
        "Hacer una lista con los numeros primos menores a 20000"
      ],
      "metadata": {
        "id": "Plxc17ffocsS"
      }
    },
    {
      "cell_type": "code",
      "source": [
        "def es_primo(n):\n",
        "  if (n == 0 or n==1):\n",
        "    return False\n",
        "  for i in range(2,n):\n",
        "    if (n%i==0):\n",
        "      return False\n",
        "  return True\n",
        "\n",
        "primos = [x for x in range(20000) if es_primo(x)]\n",
        "print(primos)"
      ],
      "metadata": {
        "id": "_ydO_PZqxcV3",
        "colab": {
          "base_uri": "https://localhost:8080/"
        },
        "outputId": "08bc5a86-1456-4501-d4a0-84b33f9db4b7"
      },
      "execution_count": null,
      "outputs": [
        {
          "output_type": "stream",
          "name": "stdout",
          "text": [
            "[2, 3, 5, 7, 11, 13, 17, 19, 23, 29, 31, 37, 41, 43, 47, 53, 59, 61, 67, 71, 73, 79, 83, 89, 97, 101, 103, 107, 109, 113, 127, 131, 137, 139, 149, 151, 157, 163, 167, 173, 179, 181, 191, 193, 197, 199, 211, 223, 227, 229, 233, 239, 241, 251, 257, 263, 269, 271, 277, 281, 283, 293, 307, 311, 313, 317, 331, 337, 347, 349, 353, 359, 367, 373, 379, 383, 389, 397, 401, 409, 419, 421, 431, 433, 439, 443, 449, 457, 461, 463, 467, 479, 487, 491, 499, 503, 509, 521, 523, 541, 547, 557, 563, 569, 571, 577, 587, 593, 599, 601, 607, 613, 617, 619, 631, 641, 643, 647, 653, 659, 661, 673, 677, 683, 691, 701, 709, 719, 727, 733, 739, 743, 751, 757, 761, 769, 773, 787, 797, 809, 811, 821, 823, 827, 829, 839, 853, 857, 859, 863, 877, 881, 883, 887, 907, 911, 919, 929, 937, 941, 947, 953, 967, 971, 977, 983, 991, 997, 1009, 1013, 1019, 1021, 1031, 1033, 1039, 1049, 1051, 1061, 1063, 1069, 1087, 1091, 1093, 1097, 1103, 1109, 1117, 1123, 1129, 1151, 1153, 1163, 1171, 1181, 1187, 1193, 1201, 1213, 1217, 1223, 1229, 1231, 1237, 1249, 1259, 1277, 1279, 1283, 1289, 1291, 1297, 1301, 1303, 1307, 1319, 1321, 1327, 1361, 1367, 1373, 1381, 1399, 1409, 1423, 1427, 1429, 1433, 1439, 1447, 1451, 1453, 1459, 1471, 1481, 1483, 1487, 1489, 1493, 1499, 1511, 1523, 1531, 1543, 1549, 1553, 1559, 1567, 1571, 1579, 1583, 1597, 1601, 1607, 1609, 1613, 1619, 1621, 1627, 1637, 1657, 1663, 1667, 1669, 1693, 1697, 1699, 1709, 1721, 1723, 1733, 1741, 1747, 1753, 1759, 1777, 1783, 1787, 1789, 1801, 1811, 1823, 1831, 1847, 1861, 1867, 1871, 1873, 1877, 1879, 1889, 1901, 1907, 1913, 1931, 1933, 1949, 1951, 1973, 1979, 1987, 1993, 1997, 1999, 2003, 2011, 2017, 2027, 2029, 2039, 2053, 2063, 2069, 2081, 2083, 2087, 2089, 2099, 2111, 2113, 2129, 2131, 2137, 2141, 2143, 2153, 2161, 2179, 2203, 2207, 2213, 2221, 2237, 2239, 2243, 2251, 2267, 2269, 2273, 2281, 2287, 2293, 2297, 2309, 2311, 2333, 2339, 2341, 2347, 2351, 2357, 2371, 2377, 2381, 2383, 2389, 2393, 2399, 2411, 2417, 2423, 2437, 2441, 2447, 2459, 2467, 2473, 2477, 2503, 2521, 2531, 2539, 2543, 2549, 2551, 2557, 2579, 2591, 2593, 2609, 2617, 2621, 2633, 2647, 2657, 2659, 2663, 2671, 2677, 2683, 2687, 2689, 2693, 2699, 2707, 2711, 2713, 2719, 2729, 2731, 2741, 2749, 2753, 2767, 2777, 2789, 2791, 2797, 2801, 2803, 2819, 2833, 2837, 2843, 2851, 2857, 2861, 2879, 2887, 2897, 2903, 2909, 2917, 2927, 2939, 2953, 2957, 2963, 2969, 2971, 2999, 3001, 3011, 3019, 3023, 3037, 3041, 3049, 3061, 3067, 3079, 3083, 3089, 3109, 3119, 3121, 3137, 3163, 3167, 3169, 3181, 3187, 3191, 3203, 3209, 3217, 3221, 3229, 3251, 3253, 3257, 3259, 3271, 3299, 3301, 3307, 3313, 3319, 3323, 3329, 3331, 3343, 3347, 3359, 3361, 3371, 3373, 3389, 3391, 3407, 3413, 3433, 3449, 3457, 3461, 3463, 3467, 3469, 3491, 3499, 3511, 3517, 3527, 3529, 3533, 3539, 3541, 3547, 3557, 3559, 3571, 3581, 3583, 3593, 3607, 3613, 3617, 3623, 3631, 3637, 3643, 3659, 3671, 3673, 3677, 3691, 3697, 3701, 3709, 3719, 3727, 3733, 3739, 3761, 3767, 3769, 3779, 3793, 3797, 3803, 3821, 3823, 3833, 3847, 3851, 3853, 3863, 3877, 3881, 3889, 3907, 3911, 3917, 3919, 3923, 3929, 3931, 3943, 3947, 3967, 3989, 4001, 4003, 4007, 4013, 4019, 4021, 4027, 4049, 4051, 4057, 4073, 4079, 4091, 4093, 4099, 4111, 4127, 4129, 4133, 4139, 4153, 4157, 4159, 4177, 4201, 4211, 4217, 4219, 4229, 4231, 4241, 4243, 4253, 4259, 4261, 4271, 4273, 4283, 4289, 4297, 4327, 4337, 4339, 4349, 4357, 4363, 4373, 4391, 4397, 4409, 4421, 4423, 4441, 4447, 4451, 4457, 4463, 4481, 4483, 4493, 4507, 4513, 4517, 4519, 4523, 4547, 4549, 4561, 4567, 4583, 4591, 4597, 4603, 4621, 4637, 4639, 4643, 4649, 4651, 4657, 4663, 4673, 4679, 4691, 4703, 4721, 4723, 4729, 4733, 4751, 4759, 4783, 4787, 4789, 4793, 4799, 4801, 4813, 4817, 4831, 4861, 4871, 4877, 4889, 4903, 4909, 4919, 4931, 4933, 4937, 4943, 4951, 4957, 4967, 4969, 4973, 4987, 4993, 4999, 5003, 5009, 5011, 5021, 5023, 5039, 5051, 5059, 5077, 5081, 5087, 5099, 5101, 5107, 5113, 5119, 5147, 5153, 5167, 5171, 5179, 5189, 5197, 5209, 5227, 5231, 5233, 5237, 5261, 5273, 5279, 5281, 5297, 5303, 5309, 5323, 5333, 5347, 5351, 5381, 5387, 5393, 5399, 5407, 5413, 5417, 5419, 5431, 5437, 5441, 5443, 5449, 5471, 5477, 5479, 5483, 5501, 5503, 5507, 5519, 5521, 5527, 5531, 5557, 5563, 5569, 5573, 5581, 5591, 5623, 5639, 5641, 5647, 5651, 5653, 5657, 5659, 5669, 5683, 5689, 5693, 5701, 5711, 5717, 5737, 5741, 5743, 5749, 5779, 5783, 5791, 5801, 5807, 5813, 5821, 5827, 5839, 5843, 5849, 5851, 5857, 5861, 5867, 5869, 5879, 5881, 5897, 5903, 5923, 5927, 5939, 5953, 5981, 5987, 6007, 6011, 6029, 6037, 6043, 6047, 6053, 6067, 6073, 6079, 6089, 6091, 6101, 6113, 6121, 6131, 6133, 6143, 6151, 6163, 6173, 6197, 6199, 6203, 6211, 6217, 6221, 6229, 6247, 6257, 6263, 6269, 6271, 6277, 6287, 6299, 6301, 6311, 6317, 6323, 6329, 6337, 6343, 6353, 6359, 6361, 6367, 6373, 6379, 6389, 6397, 6421, 6427, 6449, 6451, 6469, 6473, 6481, 6491, 6521, 6529, 6547, 6551, 6553, 6563, 6569, 6571, 6577, 6581, 6599, 6607, 6619, 6637, 6653, 6659, 6661, 6673, 6679, 6689, 6691, 6701, 6703, 6709, 6719, 6733, 6737, 6761, 6763, 6779, 6781, 6791, 6793, 6803, 6823, 6827, 6829, 6833, 6841, 6857, 6863, 6869, 6871, 6883, 6899, 6907, 6911, 6917, 6947, 6949, 6959, 6961, 6967, 6971, 6977, 6983, 6991, 6997, 7001, 7013, 7019, 7027, 7039, 7043, 7057, 7069, 7079, 7103, 7109, 7121, 7127, 7129, 7151, 7159, 7177, 7187, 7193, 7207, 7211, 7213, 7219, 7229, 7237, 7243, 7247, 7253, 7283, 7297, 7307, 7309, 7321, 7331, 7333, 7349, 7351, 7369, 7393, 7411, 7417, 7433, 7451, 7457, 7459, 7477, 7481, 7487, 7489, 7499, 7507, 7517, 7523, 7529, 7537, 7541, 7547, 7549, 7559, 7561, 7573, 7577, 7583, 7589, 7591, 7603, 7607, 7621, 7639, 7643, 7649, 7669, 7673, 7681, 7687, 7691, 7699, 7703, 7717, 7723, 7727, 7741, 7753, 7757, 7759, 7789, 7793, 7817, 7823, 7829, 7841, 7853, 7867, 7873, 7877, 7879, 7883, 7901, 7907, 7919, 7927, 7933, 7937, 7949, 7951, 7963, 7993, 8009, 8011, 8017, 8039, 8053, 8059, 8069, 8081, 8087, 8089, 8093, 8101, 8111, 8117, 8123, 8147, 8161, 8167, 8171, 8179, 8191, 8209, 8219, 8221, 8231, 8233, 8237, 8243, 8263, 8269, 8273, 8287, 8291, 8293, 8297, 8311, 8317, 8329, 8353, 8363, 8369, 8377, 8387, 8389, 8419, 8423, 8429, 8431, 8443, 8447, 8461, 8467, 8501, 8513, 8521, 8527, 8537, 8539, 8543, 8563, 8573, 8581, 8597, 8599, 8609, 8623, 8627, 8629, 8641, 8647, 8663, 8669, 8677, 8681, 8689, 8693, 8699, 8707, 8713, 8719, 8731, 8737, 8741, 8747, 8753, 8761, 8779, 8783, 8803, 8807, 8819, 8821, 8831, 8837, 8839, 8849, 8861, 8863, 8867, 8887, 8893, 8923, 8929, 8933, 8941, 8951, 8963, 8969, 8971, 8999, 9001, 9007, 9011, 9013, 9029, 9041, 9043, 9049, 9059, 9067, 9091, 9103, 9109, 9127, 9133, 9137, 9151, 9157, 9161, 9173, 9181, 9187, 9199, 9203, 9209, 9221, 9227, 9239, 9241, 9257, 9277, 9281, 9283, 9293, 9311, 9319, 9323, 9337, 9341, 9343, 9349, 9371, 9377, 9391, 9397, 9403, 9413, 9419, 9421, 9431, 9433, 9437, 9439, 9461, 9463, 9467, 9473, 9479, 9491, 9497, 9511, 9521, 9533, 9539, 9547, 9551, 9587, 9601, 9613, 9619, 9623, 9629, 9631, 9643, 9649, 9661, 9677, 9679, 9689, 9697, 9719, 9721, 9733, 9739, 9743, 9749, 9767, 9769, 9781, 9787, 9791, 9803, 9811, 9817, 9829, 9833, 9839, 9851, 9857, 9859, 9871, 9883, 9887, 9901, 9907, 9923, 9929, 9931, 9941, 9949, 9967, 9973, 10007, 10009, 10037, 10039, 10061, 10067, 10069, 10079, 10091, 10093, 10099, 10103, 10111, 10133, 10139, 10141, 10151, 10159, 10163, 10169, 10177, 10181, 10193, 10211, 10223, 10243, 10247, 10253, 10259, 10267, 10271, 10273, 10289, 10301, 10303, 10313, 10321, 10331, 10333, 10337, 10343, 10357, 10369, 10391, 10399, 10427, 10429, 10433, 10453, 10457, 10459, 10463, 10477, 10487, 10499, 10501, 10513, 10529, 10531, 10559, 10567, 10589, 10597, 10601, 10607, 10613, 10627, 10631, 10639, 10651, 10657, 10663, 10667, 10687, 10691, 10709, 10711, 10723, 10729, 10733, 10739, 10753, 10771, 10781, 10789, 10799, 10831, 10837, 10847, 10853, 10859, 10861, 10867, 10883, 10889, 10891, 10903, 10909, 10937, 10939, 10949, 10957, 10973, 10979, 10987, 10993, 11003, 11027, 11047, 11057, 11059, 11069, 11071, 11083, 11087, 11093, 11113, 11117, 11119, 11131, 11149, 11159, 11161, 11171, 11173, 11177, 11197, 11213, 11239, 11243, 11251, 11257, 11261, 11273, 11279, 11287, 11299, 11311, 11317, 11321, 11329, 11351, 11353, 11369, 11383, 11393, 11399, 11411, 11423, 11437, 11443, 11447, 11467, 11471, 11483, 11489, 11491, 11497, 11503, 11519, 11527, 11549, 11551, 11579, 11587, 11593, 11597, 11617, 11621, 11633, 11657, 11677, 11681, 11689, 11699, 11701, 11717, 11719, 11731, 11743, 11777, 11779, 11783, 11789, 11801, 11807, 11813, 11821, 11827, 11831, 11833, 11839, 11863, 11867, 11887, 11897, 11903, 11909, 11923, 11927, 11933, 11939, 11941, 11953, 11959, 11969, 11971, 11981, 11987, 12007, 12011, 12037, 12041, 12043, 12049, 12071, 12073, 12097, 12101, 12107, 12109, 12113, 12119, 12143, 12149, 12157, 12161, 12163, 12197, 12203, 12211, 12227, 12239, 12241, 12251, 12253, 12263, 12269, 12277, 12281, 12289, 12301, 12323, 12329, 12343, 12347, 12373, 12377, 12379, 12391, 12401, 12409, 12413, 12421, 12433, 12437, 12451, 12457, 12473, 12479, 12487, 12491, 12497, 12503, 12511, 12517, 12527, 12539, 12541, 12547, 12553, 12569, 12577, 12583, 12589, 12601, 12611, 12613, 12619, 12637, 12641, 12647, 12653, 12659, 12671, 12689, 12697, 12703, 12713, 12721, 12739, 12743, 12757, 12763, 12781, 12791, 12799, 12809, 12821, 12823, 12829, 12841, 12853, 12889, 12893, 12899, 12907, 12911, 12917, 12919, 12923, 12941, 12953, 12959, 12967, 12973, 12979, 12983, 13001, 13003, 13007, 13009, 13033, 13037, 13043, 13049, 13063, 13093, 13099, 13103, 13109, 13121, 13127, 13147, 13151, 13159, 13163, 13171, 13177, 13183, 13187, 13217, 13219, 13229, 13241, 13249, 13259, 13267, 13291, 13297, 13309, 13313, 13327, 13331, 13337, 13339, 13367, 13381, 13397, 13399, 13411, 13417, 13421, 13441, 13451, 13457, 13463, 13469, 13477, 13487, 13499, 13513, 13523, 13537, 13553, 13567, 13577, 13591, 13597, 13613, 13619, 13627, 13633, 13649, 13669, 13679, 13681, 13687, 13691, 13693, 13697, 13709, 13711, 13721, 13723, 13729, 13751, 13757, 13759, 13763, 13781, 13789, 13799, 13807, 13829, 13831, 13841, 13859, 13873, 13877, 13879, 13883, 13901, 13903, 13907, 13913, 13921, 13931, 13933, 13963, 13967, 13997, 13999, 14009, 14011, 14029, 14033, 14051, 14057, 14071, 14081, 14083, 14087, 14107, 14143, 14149, 14153, 14159, 14173, 14177, 14197, 14207, 14221, 14243, 14249, 14251, 14281, 14293, 14303, 14321, 14323, 14327, 14341, 14347, 14369, 14387, 14389, 14401, 14407, 14411, 14419, 14423, 14431, 14437, 14447, 14449, 14461, 14479, 14489, 14503, 14519, 14533, 14537, 14543, 14549, 14551, 14557, 14561, 14563, 14591, 14593, 14621, 14627, 14629, 14633, 14639, 14653, 14657, 14669, 14683, 14699, 14713, 14717, 14723, 14731, 14737, 14741, 14747, 14753, 14759, 14767, 14771, 14779, 14783, 14797, 14813, 14821, 14827, 14831, 14843, 14851, 14867, 14869, 14879, 14887, 14891, 14897, 14923, 14929, 14939, 14947, 14951, 14957, 14969, 14983, 15013, 15017, 15031, 15053, 15061, 15073, 15077, 15083, 15091, 15101, 15107, 15121, 15131, 15137, 15139, 15149, 15161, 15173, 15187, 15193, 15199, 15217, 15227, 15233, 15241, 15259, 15263, 15269, 15271, 15277, 15287, 15289, 15299, 15307, 15313, 15319, 15329, 15331, 15349, 15359, 15361, 15373, 15377, 15383, 15391, 15401, 15413, 15427, 15439, 15443, 15451, 15461, 15467, 15473, 15493, 15497, 15511, 15527, 15541, 15551, 15559, 15569, 15581, 15583, 15601, 15607, 15619, 15629, 15641, 15643, 15647, 15649, 15661, 15667, 15671, 15679, 15683, 15727, 15731, 15733, 15737, 15739, 15749, 15761, 15767, 15773, 15787, 15791, 15797, 15803, 15809, 15817, 15823, 15859, 15877, 15881, 15887, 15889, 15901, 15907, 15913, 15919, 15923, 15937, 15959, 15971, 15973, 15991, 16001, 16007, 16033, 16057, 16061, 16063, 16067, 16069, 16073, 16087, 16091, 16097, 16103, 16111, 16127, 16139, 16141, 16183, 16187, 16189, 16193, 16217, 16223, 16229, 16231, 16249, 16253, 16267, 16273, 16301, 16319, 16333, 16339, 16349, 16361, 16363, 16369, 16381, 16411, 16417, 16421, 16427, 16433, 16447, 16451, 16453, 16477, 16481, 16487, 16493, 16519, 16529, 16547, 16553, 16561, 16567, 16573, 16603, 16607, 16619, 16631, 16633, 16649, 16651, 16657, 16661, 16673, 16691, 16693, 16699, 16703, 16729, 16741, 16747, 16759, 16763, 16787, 16811, 16823, 16829, 16831, 16843, 16871, 16879, 16883, 16889, 16901, 16903, 16921, 16927, 16931, 16937, 16943, 16963, 16979, 16981, 16987, 16993, 17011, 17021, 17027, 17029, 17033, 17041, 17047, 17053, 17077, 17093, 17099, 17107, 17117, 17123, 17137, 17159, 17167, 17183, 17189, 17191, 17203, 17207, 17209, 17231, 17239, 17257, 17291, 17293, 17299, 17317, 17321, 17327, 17333, 17341, 17351, 17359, 17377, 17383, 17387, 17389, 17393, 17401, 17417, 17419, 17431, 17443, 17449, 17467, 17471, 17477, 17483, 17489, 17491, 17497, 17509, 17519, 17539, 17551, 17569, 17573, 17579, 17581, 17597, 17599, 17609, 17623, 17627, 17657, 17659, 17669, 17681, 17683, 17707, 17713, 17729, 17737, 17747, 17749, 17761, 17783, 17789, 17791, 17807, 17827, 17837, 17839, 17851, 17863, 17881, 17891, 17903, 17909, 17911, 17921, 17923, 17929, 17939, 17957, 17959, 17971, 17977, 17981, 17987, 17989, 18013, 18041, 18043, 18047, 18049, 18059, 18061, 18077, 18089, 18097, 18119, 18121, 18127, 18131, 18133, 18143, 18149, 18169, 18181, 18191, 18199, 18211, 18217, 18223, 18229, 18233, 18251, 18253, 18257, 18269, 18287, 18289, 18301, 18307, 18311, 18313, 18329, 18341, 18353, 18367, 18371, 18379, 18397, 18401, 18413, 18427, 18433, 18439, 18443, 18451, 18457, 18461, 18481, 18493, 18503, 18517, 18521, 18523, 18539, 18541, 18553, 18583, 18587, 18593, 18617, 18637, 18661, 18671, 18679, 18691, 18701, 18713, 18719, 18731, 18743, 18749, 18757, 18773, 18787, 18793, 18797, 18803, 18839, 18859, 18869, 18899, 18911, 18913, 18917, 18919, 18947, 18959, 18973, 18979, 19001, 19009, 19013, 19031, 19037, 19051, 19069, 19073, 19079, 19081, 19087, 19121, 19139, 19141, 19157, 19163, 19181, 19183, 19207, 19211, 19213, 19219, 19231, 19237, 19249, 19259, 19267, 19273, 19289, 19301, 19309, 19319, 19333, 19373, 19379, 19381, 19387, 19391, 19403, 19417, 19421, 19423, 19427, 19429, 19433, 19441, 19447, 19457, 19463, 19469, 19471, 19477, 19483, 19489, 19501, 19507, 19531, 19541, 19543, 19553, 19559, 19571, 19577, 19583, 19597, 19603, 19609, 19661, 19681, 19687, 19697, 19699, 19709, 19717, 19727, 19739, 19751, 19753, 19759, 19763, 19777, 19793, 19801, 19813, 19819, 19841, 19843, 19853, 19861, 19867, 19889, 19891, 19913, 19919, 19927, 19937, 19949, 19961, 19963, 19973, 19979, 19991, 19993, 19997]\n"
          ]
        }
      ]
    },
    {
      "cell_type": "markdown",
      "source": [
        "##Ejercicio 2:\n",
        "En ausencia de roce con el aire, un proyectil lanzado en un ángulo $\\alpha$ (en grados ${}^\\circ$)y velocidad $v$ en un terreno plano tiene un alcance horizntal $R$ dado por $$ R =\\dfrac{v^2\\sin(2\\alpha)}{g},$$\n",
        "donde $g=9.81\\,{\\rm m/s^2}$ es la aceleración de gravedad en la Tierra. La altura máxima que alcanzará el proyectil será $$H = \\dfrac{v^2 \\sin^2\\alpha}{2g}. $$\n",
        "Escriba dos funciones tales que calculen y devuelvan el valor del alcance máximo $R$ y la altura máxima $H$, respectivamente, tomando como argumento por defecto el valor de la aceleración de gravedad (en ${\\rm m/s^2}$).\n",
        "\n",
        "Para esto puede usar el módulo `math` para calcular el seno del ángulo. Este último debe estar en radianes (${\\rm rad}$), para lo que puede usar la siguiente transformación:\n",
        "$$ \\alpha [{\\rm rad}] = \\dfrac{\\pi}{180}\\alpha\\,[^\\circ]$$\n",
        "\n",
        "Donde $$\\alpha = 25º $$\n",
        "      v= 30m/s"
      ],
      "metadata": {
        "id": "Ma_NcfjZvg8P"
      }
    },
    {
      "cell_type": "code",
      "source": [
        "import math\n",
        "\n",
        "def grado_rad(alfa):\n",
        "  #LA FUNCION QUE CONVIERTE DE º A rad\n",
        "  alfa_rad = (math.pi*alfa)/180\n",
        "  return alfa_rad\n",
        "\n",
        "def alcance(alfa,velocidad):\n",
        "  #LA FUNCION QUE ME RETORNA EL ALCANCE MAXIMO\n",
        "  g=9.81\n",
        "  result=((velocidad**2)*((math.sin(2*grado_rad(alfa)))))/(g)\n",
        "  return(result)\n",
        "\n",
        "def altura(alfa,velocidad):\n",
        "  #LA FUNCION QUE ME RETORNA LA ALTURA MÁXIMA\n",
        "  g=9.81\n",
        "  result=((velocidad**2)*(math.sin(grado_rad(alfa)))**2)/(2*g)\n",
        "  return result\n",
        "\n",
        "print(alcance(25,30))\n",
        "print(altura(25,30))"
      ],
      "metadata": {
        "id": "K5QRozr-vi2Q",
        "colab": {
          "base_uri": "https://localhost:8080/"
        },
        "outputId": "372c9b42-4e91-4396-b495-96f085dba560"
      },
      "execution_count": null,
      "outputs": [
        {
          "output_type": "stream",
          "name": "stdout",
          "text": [
            "70.27930670816312\n",
            "8.192944731960107\n"
          ]
        }
      ]
    },
    {
      "cell_type": "markdown",
      "source": [
        "#Funciones de orden superior"
      ],
      "metadata": {
        "id": "Tr_L7A36NHj_"
      }
    },
    {
      "cell_type": "code",
      "source": [
        "def funcion_orden_superio(fun):\n",
        "  fun()\n",
        "\n",
        "def saludo():\n",
        "  print('Hola')\n",
        "\n",
        "funcion_orden_superio(saludo)"
      ],
      "metadata": {
        "colab": {
          "base_uri": "https://localhost:8080/"
        },
        "id": "NgvBSV8ZNNoP",
        "outputId": "2be44310-c6a0-4354-9f61-e5a185a7ead6"
      },
      "execution_count": null,
      "outputs": [
        {
          "output_type": "stream",
          "name": "stdout",
          "text": [
            "Hola\n"
          ]
        }
      ]
    },
    {
      "cell_type": "markdown",
      "source": [
        "##Filter()\n",
        "Esta función recibe dos parámetros\n",
        "`filter(funcion,iterable)`"
      ],
      "metadata": {
        "id": "U2xbnEYFNfzg"
      }
    },
    {
      "cell_type": "code",
      "source": [
        "def multiplos(num):\n",
        "  if num %3 == 0:\n",
        "    return True\n",
        "\n",
        "numeros = [1,5,6,8,9,12,16]\n",
        "\n",
        "list(filter(multiplos,numeros))\n"
      ],
      "metadata": {
        "colab": {
          "base_uri": "https://localhost:8080/"
        },
        "id": "H1wC6SLgNo-5",
        "outputId": "a28687d7-f2c0-4b50-9860-1df23db45d04"
      },
      "execution_count": null,
      "outputs": [
        {
          "output_type": "execute_result",
          "data": {
            "text/plain": [
              "[6, 9, 12]"
            ]
          },
          "metadata": {},
          "execution_count": 43
        }
      ]
    },
    {
      "cell_type": "code",
      "source": [
        "cuadrados = list(filter(lambda x: pow(x,0.5)%1==0,numeros))\n",
        "print(cuadrados)"
      ],
      "metadata": {
        "colab": {
          "base_uri": "https://localhost:8080/"
        },
        "id": "fxzshAz6N__z",
        "outputId": "1b9dae16-8169-47d1-b06a-89c5f1dd65c3"
      },
      "execution_count": null,
      "outputs": [
        {
          "output_type": "stream",
          "name": "stdout",
          "text": [
            "[1, 9, 16]\n"
          ]
        }
      ]
    },
    {
      "cell_type": "markdown",
      "source": [
        "#Map\n",
        "aplica la función recibida sobre todos los elementos del iterable"
      ],
      "metadata": {
        "id": "F4sIWOiaOeuv"
      }
    },
    {
      "cell_type": "code",
      "source": [
        "numeros2 = list(map(lambda x: x**3,numeros))\n",
        "print(numeros2)"
      ],
      "metadata": {
        "colab": {
          "base_uri": "https://localhost:8080/"
        },
        "id": "UYG4M-6vOptB",
        "outputId": "4a44f3f4-429d-4a2c-a34a-9dfeb88c508d"
      },
      "execution_count": null,
      "outputs": [
        {
          "output_type": "stream",
          "name": "stdout",
          "text": [
            "[1, 125, 216, 512, 729, 1728, 4096]\n"
          ]
        }
      ]
    },
    {
      "cell_type": "markdown",
      "source": [
        "Esto es muy práctico, de esta forma no necesitamos el uso de el bucle for"
      ],
      "metadata": {
        "id": "vs6wIW4kO7SC"
      }
    }
  ]
}