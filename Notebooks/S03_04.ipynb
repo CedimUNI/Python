{
  "nbformat": 4,
  "nbformat_minor": 0,
  "metadata": {
    "colab": {
      "name": "S3-4",
      "provenance": [],
      "collapsed_sections": []
    },
    "kernelspec": {
      "name": "python3",
      "display_name": "Python 3"
    },
    "language_info": {
      "name": "python"
    }
  },
  "cells": [
    {
      "cell_type": "markdown",
      "source": [
        "# Control de Flujo:\n",
        "El flujo es una forma de entender la sucesión de instrucciones de un programa informático.\n",
        "Con el objetivo de manipular la información.\n",
        "\n",
        "# Sentencias de Control:\n",
        " * Sentencias Condicionales (Tomar deciciones)\n",
        " \n",
        " * Sentencias Iterativas (Repetir Instrucciones)\n"
      ],
      "metadata": {
        "id": "zfhpjD4EyGKh"
      }
    },
    {
      "cell_type": "markdown",
      "source": [
        "#Sentencias Condicionales"
      ],
      "metadata": {
        "id": "d7TZrcAyq2vj"
      }
    },
    {
      "cell_type": "markdown",
      "source": [
        "## Sentencia if:\n",
        "```\n",
        "if (condicion):\n",
        "  Bloques de codigo\n",
        "```\n"
      ],
      "metadata": {
        "id": "xGpP-1Dkq7g6"
      }
    },
    {
      "cell_type": "markdown",
      "source": [
        "### Ejemplo 1:\n",
        "Escriba un programa que pida la edad y nos diga si es mayor de edad o no"
      ],
      "metadata": {
        "id": "-Ex4E5-drV86"
      }
    },
    {
      "cell_type": "code",
      "source": [
        "edad=int(input(\"Ingrese su edad: \"))\n",
        "if edad>=18 :\n",
        "  print(\"Usted es mayor de edad\")"
      ],
      "metadata": {
        "id": "p4r9opa0-J6h",
        "colab": {
          "base_uri": "https://localhost:8080/"
        },
        "outputId": "26acec7b-8cf0-4f6a-8f5d-b897d0633555"
      },
      "execution_count": null,
      "outputs": [
        {
          "output_type": "stream",
          "name": "stdout",
          "text": [
            "Ingrese su edad: 15\n",
            "No estoy dentro de la condicional\n"
          ]
        }
      ]
    },
    {
      "cell_type": "markdown",
      "source": [
        "## Sentencia if-else:\n",
        "esquema:\n",
        "```\n",
        "if (condicion):\n",
        "  Bloques de codigo\n",
        "else:\n",
        "  Bloques de codigo\n",
        "```\n"
      ],
      "metadata": {
        "id": "aseOtYXt-HyJ"
      }
    },
    {
      "cell_type": "markdown",
      "source": [
        "### Ejemplo 2:\n",
        "Escribir un programa que nos diga si un numero es mayor que 10, ademas si es mayor que 20 que nos lo diga tmb, caso contrario nos dira que no es mayor que 20."
      ],
      "metadata": {
        "id": "DYSg4bJGr1OR"
      }
    },
    {
      "cell_type": "code",
      "source": [
        "x=int(input(\"Escriba un numero: \"))\n",
        "if x>10:\n",
        "  print(\"El numero ingresado es mayor que 10\")\n",
        "  if x>20:\n",
        "    print(\"Ademas, es mayor a 20\")\n",
        "  else:\n",
        "    print(\"pero no es mayor que 20\")"
      ],
      "metadata": {
        "id": "Q-408j_StYDQ",
        "colab": {
          "base_uri": "https://localhost:8080/"
        },
        "outputId": "79d3c5d5-6cc8-48a0-f2c7-c676180bb88a"
      },
      "execution_count": null,
      "outputs": [
        {
          "output_type": "stream",
          "name": "stdout",
          "text": [
            "Escriba un numero: 21\n",
            "El numero ingresado es mayor que 10\n",
            "Ademas, es mayor a 20\n"
          ]
        }
      ]
    },
    {
      "cell_type": "markdown",
      "source": [
        "## Sentencia if-elif-else:\n",
        "esquema:\n",
        "```\n",
        "if (condicion1):\n",
        "  Bloques de codigo\n",
        "elif(condicion2):\n",
        "  Bloques de codigo\n",
        "elif(condicion3):\n",
        "  Bloques de codigo\n",
        "elif(condicion4):\n",
        "  Bloques de codigo\n",
        "        .\n",
        "        .\n",
        "        .\n",
        "else:\n",
        "  Bloques de codigo\n",
        "```"
      ],
      "metadata": {
        "id": "V0WwDOWTs7da"
      }
    },
    {
      "cell_type": "markdown",
      "source": [
        "Escriba un programa que nos pida la edad y que nos diga si somos menores de 18, si tenemos entre 18 y 65 o si tenemos mas de 65"
      ],
      "metadata": {
        "id": "L5IYTz616Fk1"
      }
    },
    {
      "cell_type": "code",
      "source": [
        "edad=int(input(\"Ingrese su edad en años: \"))\n",
        "if edad<18:\n",
        "  print(\"Tienes menos de 18 años\")\n",
        "elif edad<65:\n",
        "  print(\"Tiene entre 18 y 65 años\")\n",
        "elif edad<80:\n",
        "  print(\"Su edad esta en re 65 y 80\")\n",
        "else:\n",
        "  print(\"usted tiene mas de 80 años\")"
      ],
      "metadata": {
        "colab": {
          "base_uri": "https://localhost:8080/"
        },
        "id": "4WiKYbzX5S1o",
        "outputId": "c5874dd8-1ed6-4f74-e17d-a71ff7b025f4"
      },
      "execution_count": null,
      "outputs": [
        {
          "output_type": "stream",
          "name": "stdout",
          "text": [
            "Ingrese su edad en años: 66\n",
            "usted tiene mas de 65 años\n"
          ]
        }
      ]
    },
    {
      "cell_type": "code",
      "source": [
        "edad=int(input(\"Ingrese su edad en años: \"))\n",
        "if edad<18:\n",
        "  print(\"Tienes menos de 18\")\n",
        "else:\n",
        "  if(edad<65):\n",
        "    print(\"tienes entre 18 y 65\")\n",
        "  else:\n",
        "    print(\"Tienes mas de 65\")"
      ],
      "metadata": {
        "colab": {
          "base_uri": "https://localhost:8080/"
        },
        "id": "0n3IKUoOG9cs",
        "outputId": "6a1d6fe5-8d05-4934-a005-90de08e25eaa"
      },
      "execution_count": null,
      "outputs": [
        {
          "output_type": "stream",
          "name": "stdout",
          "text": [
            "Ingrese su edad en años: 66\n",
            "Tienes mas de 65\n"
          ]
        }
      ]
    },
    {
      "cell_type": "markdown",
      "source": [
        "### Ejemplo 3:\n",
        "\n",
        "Escirbir un programa que nos diga si un año es o no bisiesto:"
      ],
      "metadata": {
        "id": "OxtH3Qsct894"
      }
    },
    {
      "cell_type": "code",
      "source": [
        "year=int(input('Ingrese el año: '))\n",
        "if year % 4 != 0: \n",
        "  print(\"No es bisiesto\")\n",
        "elif year % 100 != 0: \n",
        "\tprint(\"Es bisiesto\")\n",
        "elif year % 400 != 0: \n",
        "  print(\"No es bisiesto\")\n",
        "else:\n",
        "\tprint(\"Es bisiesto\")"
      ],
      "metadata": {
        "id": "yZ-uhJaLsbvL",
        "colab": {
          "base_uri": "https://localhost:8080/"
        },
        "outputId": "34d338eb-cb4c-4614-d264-7e0ab0c01998"
      },
      "execution_count": null,
      "outputs": [
        {
          "output_type": "stream",
          "name": "stdout",
          "text": [
            "Ingrese el año: 2001\n",
            "No es bisiesto\n"
          ]
        }
      ]
    },
    {
      "cell_type": "markdown",
      "source": [
        "## Operadores ternários:\n",
        "esquema:\n",
        "```{python}\n",
        "codigo_true if codicion else codigo_false\n",
        "```"
      ],
      "metadata": {
        "id": "WGsAdwSrvNa6"
      }
    },
    {
      "cell_type": "markdown",
      "source": [
        "### Ejemplo 4:\n",
        "Recrear el ejemplo 2 con Operadores Ternarios"
      ],
      "metadata": {
        "id": "4VChsMBkw7v4"
      }
    },
    {
      "cell_type": "code",
      "source": [
        "x=25\n",
        "if x>10:\n",
        "  print(\"El numero es mayor que 10\")\n",
        "  print(\"ademas es mayor que 20\") if x>20 else print(\"pero no es mayor que 20\")"
      ],
      "metadata": {
        "id": "129kkoQkwpxB",
        "colab": {
          "base_uri": "https://localhost:8080/"
        },
        "outputId": "6379837a-f010-4b87-e485-2cf7d1eec216"
      },
      "execution_count": null,
      "outputs": [
        {
          "output_type": "stream",
          "name": "stdout",
          "text": [
            "El numero es mayor que 10\n",
            "ademas es mayor que 20\n"
          ]
        }
      ]
    },
    {
      "cell_type": "markdown",
      "source": [
        "###Ejemplo 5:\n",
        "\n",
        "Recrear el ejemplo 3 con operadores ternarios"
      ],
      "metadata": {
        "id": "-QzSXeAFxC8w"
      }
    },
    {
      "cell_type": "code",
      "source": [
        "year=2001\n",
        "print(\"No es bisiesto\") if year % 4 != 0  else print(\"Es bisiesto\") if year % 100 != 0  else print(\"No es bisiesto\") if year % 400 != 0 else print(\"Es bisiesto\")"
      ],
      "metadata": {
        "id": "tWqeurSkvYVf",
        "colab": {
          "base_uri": "https://localhost:8080/"
        },
        "outputId": "0fdd5114-9331-4e8a-d1ec-7f5ef13bd7aa"
      },
      "execution_count": null,
      "outputs": [
        {
          "output_type": "stream",
          "name": "stdout",
          "text": [
            "No es bisiesto\n"
          ]
        }
      ]
    },
    {
      "cell_type": "markdown",
      "source": [
        "# Aplicaciones con condicionales:"
      ],
      "metadata": {
        "id": "CyA2Sbpflw_l"
      }
    },
    {
      "cell_type": "code",
      "source": [
        "from math import e\n",
        "import numpy as np\n",
        "import matplotlib.pyplot as plt\n",
        "color=input(\"Elija un color para la funcion, el color puede ser: Rojo azul amarillo y magenta: \")\n",
        "color=color.lower()\n",
        "colores={\"rojo\":\"r\",\"azul\":\"b\",\"amarillo\":\"y\",\"magenta\":\"m\"}\n",
        "if color in colores:\n",
        "  #CODIGO PARA HACER LA FUNCION:\n",
        "  x=np.linspace(-5,5,100)\n",
        "  y= lambda x: x**2+5\n",
        "  plt.plot(x,y(x),colores[color])\n",
        "  #CODIGO PARA EJE X:\n",
        "  ejex=np.zeros(len(x))\n",
        "  plt.plot(x,ejex,\"black\")\n",
        "  #CODIGO PARA AÑADIR EL EJE Y:\n",
        "  ejey1=np.zeros(2)#[0,0]\n",
        "  max_funcion=np.max(y(x))\n",
        "  min_funcion=np.min(y(x))\n",
        "  if(max_funcion<0):\n",
        "    ejey2=np.array([min_funcion,0])\n",
        "  else:\n",
        "    if(min_funcion<0):\n",
        "      ejey2=np.array([min_funcion,max_funcion])\n",
        "    else:\n",
        "      ejey2=np.array([0,max_funcion]) \n",
        "  plt.plot(ejey1,ejey2,\"black\")\n",
        "else:\n",
        "  print(\"Error, ingrese un color valido\")"
      ],
      "metadata": {
        "id": "_E7mdA3-l0q6",
        "colab": {
          "base_uri": "https://localhost:8080/",
          "height": 282
        },
        "outputId": "542b8fbb-abfa-435f-fb0e-4a86128628bc"
      },
      "execution_count": null,
      "outputs": [
        {
          "name": "stdout",
          "output_type": "stream",
          "text": [
            "Elija un color para la funcion, el color puede ser: Rojo azul amarillo y magenta: rojo\n"
          ]
        },
        {
          "output_type": "display_data",
          "data": {
            "text/plain": [
              "<Figure size 432x288 with 1 Axes>"
            ],
            "image/png": "[encoded data removed]"
          },
          "metadata": {
            "needs_background": "light"
          }
        }
      ]
    },
    {
      "cell_type": "markdown",
      "source": [
        "## Aplicacion 2:\n",
        "Elegir tipos de graficos"
      ],
      "metadata": {
        "id": "iEcLOrsf7piI"
      }
    },
    {
      "cell_type": "code",
      "source": [
        "print('========================')\n",
        "print('=         MENU         =')\n",
        "print('= 1) Grafico circular  =') \n",
        "print('= 2) Grafico de barras =')\n",
        "print('= 3) Ambos gráficos    =')\n",
        "print('========================')\n",
        "tipo=int(input(\"Elija la opcion de grafico: \"))\n",
        "if tipo==1:\n",
        "  #CODIGO DE GRAFICO CIRCULAR\n",
        "  pass\n",
        "elif(tipo==2):\n",
        "  #CODIGO PARA GRAFICO DE BARRAS:\n",
        "  pass\n",
        "elif(tipo==3):\n",
        "  #CODIGO PARA AMBOS:\n",
        "  pass\n",
        "else:\n",
        "  print(\"Ingrese un valor valido\")"
      ],
      "metadata": {
        "id": "d5Vll0Tf8SjR"
      },
      "execution_count": null,
      "outputs": []
    },
    {
      "cell_type": "markdown",
      "source": [
        "### Grafica circular:"
      ],
      "metadata": {
        "id": "3gavOzLk_kCw"
      }
    },
    {
      "cell_type": "code",
      "source": [
        "import numpy as np\n",
        "import matplotlib.pyplot as plt\n",
        "\n",
        "Distritos=[\"SMP\",\"Ate\",\"Comas\",\"Los Olivos\",\"Surco\",\"Puente Piedra\"]\n",
        "cantidad_personas=[745,678,544,392,364,383]\n",
        "#GRAFICA:\n",
        "fig1,ax1= plt.subplots()\n",
        "fig1.patch.set_facecolor(\"red\")\n",
        "ax1.pie(cantidad_personas,labels=Distritos,explode=None, autopct=\"%1.1f%%\",shadow=True,startangle=0)\n",
        "\n",
        "plt.legend(title=\"Distritos de Lima\", loc=\"center right\",bbox_to_anchor=(1,0,0.5,1))\n",
        "ax1.axis(\"equal\")\n",
        "plt.show()"
      ],
      "metadata": {
        "id": "keyWhPQP_pM9",
        "colab": {
          "base_uri": "https://localhost:8080/",
          "height": 248
        },
        "outputId": "544e74b5-ce18-460b-9169-60f352c72e07"
      },
      "execution_count": null,
      "outputs": [
        {
          "output_type": "display_data",
          "data": {
            "text/plain": [
              "<Figure size 432x288 with 1 Axes>"
            ],
            "image/png": "[encoded data removed]"
          },
          "metadata": {}
        }
      ]
    },
    {
      "cell_type": "markdown",
      "source": [
        "### Grafica de barras:"
      ],
      "metadata": {
        "id": "cd9l8ZaG_9HP"
      }
    },
    {
      "cell_type": "code",
      "source": [
        "import numpy as np\n",
        "import matplotlib.pyplot as plt\n",
        "Distritos=[\"SMP\",\"Ate\",\"Comas\",\"Los Olivos\",\"Surco\",\"Puente Piedra\"]\n",
        "cantidad_personas=[745,678,544,392,364,383]\n",
        "#Grafica:\n",
        "plt.bar(Distritos,cantidad_personas,width=0.5,color=[\"blue\",\"red\",\"green\",\"orange\",\"pink\",\"brown\"])\n",
        "plt.show()"
      ],
      "metadata": {
        "id": "YGn9B5AXAA6X",
        "colab": {
          "base_uri": "https://localhost:8080/",
          "height": 265
        },
        "outputId": "34371396-eb53-4c99-c68a-25ef67f26000"
      },
      "execution_count": null,
      "outputs": [
        {
          "output_type": "display_data",
          "data": {
            "text/plain": [
              "<Figure size 432x288 with 1 Axes>"
            ],
            "image/png": "[encoded data removed]"
          },
          "metadata": {
            "needs_background": "light"
          }
        }
      ]
    },
    {
      "cell_type": "markdown",
      "source": [
        "### Ambas graficas:\n"
      ],
      "metadata": {
        "id": "KXq5edtbATBH"
      }
    },
    {
      "cell_type": "code",
      "source": [
        "import numpy as np\n",
        "import matplotlib.pyplot as plt\n",
        "Distritos=[\"SMP\",\"Ate\",\"Comas\",\"Los Olivos\",\"Surco\",\"Puente Piedra\"]\n",
        "cantidad_personas=[745,678,544,392,364,383]\n",
        "fig,ax=plt.subplots(1,2) #1 fila y 2 columnas\n",
        "fig.set_size_inches(15,5) #15 x 5\n",
        "#GRAFICA CIRCULAR:\n",
        "ax[0].pie(cantidad_personas,explode=None,labels=Distritos,autopct=\"%1.1f%%\",shadow=True,startangle=0)\n",
        "ax[0].axis(\"equal\")\n",
        "#GRAFICA DE BARRAS:\n",
        "ax[1].bar(Distritos,cantidad_personas,width=.5,color=[\"blue\",\"red\",\"green\",\"orange\",\"pink\",\"brown\"])\n"
      ],
      "metadata": {
        "id": "nlWk1ooxAVtW",
        "colab": {
          "base_uri": "https://localhost:8080/",
          "height": 337
        },
        "outputId": "84ffe8a2-f35c-42d2-a4f3-88ec6fe77ce9"
      },
      "execution_count": null,
      "outputs": [
        {
          "output_type": "execute_result",
          "data": {
            "text/plain": [
              "<BarContainer object of 6 artists>"
            ]
          },
          "metadata": {},
          "execution_count": 52
        },
        {
          "output_type": "display_data",
          "data": {
            "text/plain": [
              "<Figure size 1080x360 with 2 Axes>"
            ],
            "image/png": "[encoded data removed]"
          },
          "metadata": {
            "needs_background": "light"
          }
        }
      ]
    },
    {
      "cell_type": "markdown",
      "source": [
        "### Juntando Todo \n"
      ],
      "metadata": {
        "id": "iDNSRGXe6qo5"
      }
    },
    {
      "cell_type": "code",
      "source": [
        "import numpy as np\n",
        "import matplotlib.pyplot as plt\n",
        "Distritos=[\"SMP\",\"Ate\",\"Comas\",\"Los Olivos\",\"Surco\",\"Puente Piedra\"]\n",
        "cantidad_personas=[745,678,544,392,364,383]\n",
        "print('========================')\n",
        "print('=         MENU         =')\n",
        "print('= 1) Grafico circular  =') \n",
        "print('= 2) Grafico de barras =')\n",
        "print('= 3) Ambos gráficos    =')\n",
        "print('========================')\n",
        "tipo=int(input(\"Elija la opcion de grafico: \"))\n",
        "if tipo==1:\n",
        "  #GRAFICA CIRCULAR:\n",
        "  fig1,ax1= plt.subplots()\n",
        "\n",
        "  ax1.pie(cantidad_personas,labels=Distritos,explode=None, autopct=\"%1.1f%%\",shadow=True,startangle=0)\n",
        "\n",
        "  plt.legend(title=\"Distritos de Lima\", loc=\"center right\",bbox_to_anchor=(1,0,0.5,1))\n",
        "  ax1.axis(\"equal\")\n",
        "  plt.show()\n",
        "  \n",
        "elif(tipo==2):\n",
        "  #Grafica barras:\n",
        "  plt.bar(Distritos,cantidad_personas,width=0.5,color=[\"blue\",\"red\",\"green\",\"orange\",\"pink\",\"brown\"])\n",
        "  plt.show()\n",
        "elif(tipo==3):\n",
        "  fig,ax=plt.subplots(1,2) #1 fila y 2 columnas\n",
        "  fig.set_size_inches(15,5) #15 x 5\n",
        "  #GRAFICA CIRCULAR:\n",
        "  ax[0].pie(cantidad_personas,explode=None,labels=Distritos,autopct=\"%1.1f%%\",shadow=True,startangle=0)\n",
        "  ax[0].axis(\"equal\")\n",
        "  #GRAFICA DE BARRAS:\n",
        "  ax[1].bar(Distritos,cantidad_personas,width=.5,color=[\"blue\",\"red\",\"green\",\"orange\",\"pink\",\"brown\"])\n",
        "else:\n",
        "  print(\"Ingrese un valor valido\")"
      ],
      "metadata": {
        "id": "qK9CFb4vurV6",
        "colab": {
          "base_uri": "https://localhost:8080/",
          "height": 441
        },
        "outputId": "85f6ad16-46db-4d7f-b635-efa9512a4021"
      },
      "execution_count": null,
      "outputs": [
        {
          "name": "stdout",
          "output_type": "stream",
          "text": [
            "========================\n",
            "=         MENU         =\n",
            "= 1) Grafico circular  =\n",
            "= 2) Grafico de barras =\n",
            "= 3) Ambos gráficos    =\n",
            "========================\n",
            "Elija la opcion de grafico: 3\n"
          ]
        },
        {
          "output_type": "display_data",
          "data": {
            "text/plain": [
              "<Figure size 1080x360 with 2 Axes>"
            ],
            "image/png": "[encoded data removed]"
          },
          "metadata": {
            "needs_background": "light"
          }
        }
      ]
    },
    {
      "cell_type": "markdown",
      "source": [
        "#Sentencias Iterativas:"
      ],
      "metadata": {
        "id": "ALt5P5fH07CA"
      }
    },
    {
      "cell_type": "markdown",
      "source": [
        "## Bucle While:\n",
        "Repite un bloque de instrucciones, mientras una condición se cumpla\n",
        "\n",
        "Esquema del While:\n",
        "\n",
        "```\n",
        "While(condicion):\n",
        "  Bloque de codigo\n",
        "```"
      ],
      "metadata": {
        "id": "9gAzl0eP2E2n"
      }
    },
    {
      "cell_type": "markdown",
      "source": [
        "### Ejemplo 1:\n",
        "Haga un programa que escriba las potencias de 2 que sea menor a 10000, separandolas por comas y terminando con un punto."
      ],
      "metadata": {
        "id": "Z7pRpU0U29xn"
      }
    },
    {
      "cell_type": "code",
      "source": [
        "n=1\n",
        "while(n<10000):\n",
        "  if(n*2<10000):\n",
        "    print(n,end=\",\")\n",
        "  else:\n",
        "    print(n,end=\".\")\n",
        "  n*=2"
      ],
      "metadata": {
        "id": "n44I-4ua0-jh",
        "colab": {
          "base_uri": "https://localhost:8080/"
        },
        "outputId": "165338b9-372f-4bf2-e880-19769d31e24b"
      },
      "execution_count": null,
      "outputs": [
        {
          "output_type": "stream",
          "name": "stdout",
          "text": [
            "1,2,4,8,16,32,64,128,256,512,1024,2048,4096,8192,16384,32768,65536."
          ]
        }
      ]
    },
    {
      "cell_type": "markdown",
      "source": [
        "## Funcion range():\n",
        "\n",
        "La funcion ```Range()``` nos sirve para hacer serie de numeros\n",
        "\n",
        "\n",
        "```Range(Inicio,Final+1,paso)```"
      ],
      "metadata": {
        "id": "v1Mb2XuY41O-"
      }
    },
    {
      "cell_type": "code",
      "source": [
        "print(list(range(10)))"
      ],
      "metadata": {
        "id": "KBhUAiqb2DDr",
        "colab": {
          "base_uri": "https://localhost:8080/"
        },
        "outputId": "fe5cd052-f87f-4f6f-8e3d-b2bb536501eb"
      },
      "execution_count": null,
      "outputs": [
        {
          "output_type": "stream",
          "name": "stdout",
          "text": [
            "[0, 1, 2, 3, 4, 5, 6, 7, 8, 9]\n"
          ]
        }
      ]
    },
    {
      "cell_type": "code",
      "source": [
        "print(list(range(6,20)))"
      ],
      "metadata": {
        "id": "qweLHF805Acm",
        "colab": {
          "base_uri": "https://localhost:8080/"
        },
        "outputId": "9403c72c-8d3d-49ec-bc35-3fa1a1f7786c"
      },
      "execution_count": null,
      "outputs": [
        {
          "output_type": "stream",
          "name": "stdout",
          "text": [
            "[6, 7, 8, 9, 10, 11, 12, 13, 14, 15, 16, 17, 18, 19]\n"
          ]
        }
      ]
    },
    {
      "cell_type": "code",
      "source": [
        "print(list(range(6,20,1)))"
      ],
      "metadata": {
        "id": "BDEulA4b5ATu",
        "colab": {
          "base_uri": "https://localhost:8080/"
        },
        "outputId": "88e62405-57a5-461e-be43-54da0686309f"
      },
      "execution_count": null,
      "outputs": [
        {
          "output_type": "stream",
          "name": "stdout",
          "text": [
            "[6, 7, 8, 9, 10, 11, 12, 13, 14, 15, 16, 17, 18, 19]\n"
          ]
        }
      ]
    },
    {
      "cell_type": "code",
      "source": [
        "print(list(range(20,10,-1)))"
      ],
      "metadata": {
        "id": "sJdwUR195AHW",
        "colab": {
          "base_uri": "https://localhost:8080/"
        },
        "outputId": "80ffa7c9-88fa-4e46-ddbb-e6759951574c"
      },
      "execution_count": null,
      "outputs": [
        {
          "output_type": "stream",
          "name": "stdout",
          "text": [
            "[20, 19, 18, 17, 16, 15, 14, 13, 12, 11]\n"
          ]
        }
      ]
    },
    {
      "cell_type": "markdown",
      "source": [
        "## Bucle for:\n",
        "\n",
        "Repite un bloque de instrucciones un número determinado de veces\n",
        "\n",
        "esquema:\n",
        "```\n",
        "for iterador in elemento_iterable:\n",
        "  Bloques de Codigo\n",
        "```"
      ],
      "metadata": {
        "id": "omq1scZF5Mw3"
      }
    },
    {
      "cell_type": "markdown",
      "source": [
        "### Elemento Iterable:\n",
        "Aquellos Elemento que nos permiter iterar en él, Estos Pueden Ser:\n",
        "\n",
        "* Listas,Tuplas,Diccionarios\n",
        "* Cadenas de Texto\n",
        "* ```Range()```\n"
      ],
      "metadata": {
        "id": "uBdLVsQN5mbh"
      }
    },
    {
      "cell_type": "code",
      "source": [
        "numeros=[26,34,12,16,23]\n",
        "for numero in numeros:\n",
        "  print(numero)"
      ],
      "metadata": {
        "id": "lMHdt4hZ5igG",
        "colab": {
          "base_uri": "https://localhost:8080/"
        },
        "outputId": "102b2369-17d1-4e64-d142-9522201e922a"
      },
      "execution_count": null,
      "outputs": [
        {
          "output_type": "stream",
          "name": "stdout",
          "text": [
            "26\n",
            "34\n",
            "12\n",
            "16\n",
            "23\n"
          ]
        }
      ]
    },
    {
      "cell_type": "code",
      "source": [
        "for letra in \"Python \":\n",
        "  print(letra)"
      ],
      "metadata": {
        "id": "PgVdznq066Me",
        "colab": {
          "base_uri": "https://localhost:8080/"
        },
        "outputId": "3d36011c-9d97-4e76-8d46-87d96967507d"
      },
      "execution_count": null,
      "outputs": [
        {
          "output_type": "stream",
          "name": "stdout",
          "text": [
            "P\n",
            "y\n",
            "t\n",
            "h\n",
            "o\n",
            "n\n",
            " \n"
          ]
        }
      ]
    },
    {
      "cell_type": "code",
      "source": [
        "for i in range(15):\n",
        "  print(i)"
      ],
      "metadata": {
        "id": "3lCcvtBX66Cu",
        "colab": {
          "base_uri": "https://localhost:8080/"
        },
        "outputId": "9c7f5fb9-7027-4970-9449-9c74f802ea4c"
      },
      "execution_count": null,
      "outputs": [
        {
          "output_type": "stream",
          "name": "stdout",
          "text": [
            "0\n",
            "1\n",
            "2\n",
            "3\n",
            "4\n",
            "5\n",
            "6\n",
            "7\n",
            "8\n",
            "9\n",
            "10\n",
            "11\n",
            "12\n",
            "13\n",
            "14\n"
          ]
        }
      ]
    },
    {
      "cell_type": "markdown",
      "source": [
        "### Ejemplo 2:\n",
        "Escriba un programa que nos cuente cuantas veces se repite una palabra en un texto, ponienodlo en un diccionario ({palabra:numero_de_repeticiones})\n"
      ],
      "metadata": {
        "id": "M8i9UMq-7WbU"
      }
    },
    {
      "cell_type": "code",
      "source": [
        "texto=\"Hola bienvenico al curso de python hola python python al al curso\"\n",
        "Diccionario_texto={}\n",
        "lista=texto.lower().split()\n",
        "lista_sin_repeticiones=[]\n",
        "for palabra in lista:\n",
        "  if palabra not in lista_sin_repeticiones:\n",
        "    contador=0\n",
        "    for palabra2 in lista:\n",
        "      if(palabra==palabra2):\n",
        "        contador+=1\n",
        "    Diccionario_texto[palabra]=str(contador)\n",
        "print(Diccionario_texto)"
      ],
      "metadata": {
        "id": "B2EkoT_b7a-e",
        "colab": {
          "base_uri": "https://localhost:8080/"
        },
        "outputId": "eea3ff44-fcd1-4ca6-b705-ce4dc7c53413"
      },
      "execution_count": null,
      "outputs": [
        {
          "output_type": "stream",
          "name": "stdout",
          "text": [
            "{'hola': '2', 'bienvenico': '1', 'al': '3', 'curso': '2', 'de': '1', 'python': '3'}\n"
          ]
        }
      ]
    },
    {
      "cell_type": "markdown",
      "source": [
        "## Break y continue:\n",
        "* Break:\n",
        "\n",
        "\n",
        "Utilizamos el break para salir de un bucle de manera total\n",
        "\n",
        "\n",
        "* Continue:\n",
        "\n",
        "Utilizamos el continue para saltearnos una iteración\n"
      ],
      "metadata": {
        "id": "IgITu3nh838e"
      }
    },
    {
      "cell_type": "markdown",
      "source": [
        "### Ejemplo 3:\n",
        "Escriba un programa que le quite las letras \"a\" a una cadena de texto"
      ],
      "metadata": {
        "id": "vR19ZdOIAiXU"
      }
    },
    {
      "cell_type": "code",
      "source": [
        "texto=\"La amiga de claudia es ana\"\n",
        "for i in texto:\n",
        "  if i==\"a\":\n",
        "    continue\n",
        "  print(i,end=\"\")\n",
        "  "
      ],
      "metadata": {
        "id": "us2ckUzc9BN2",
        "colab": {
          "base_uri": "https://localhost:8080/"
        },
        "outputId": "606b999c-890a-4c45-d5a6-c8c223a35dc2"
      },
      "execution_count": null,
      "outputs": [
        {
          "output_type": "stream",
          "name": "stdout",
          "text": [
            "L mig de cludi es n"
          ]
        }
      ]
    },
    {
      "cell_type": "markdown",
      "source": [
        "### Ejemplo 4:\n",
        "programe la sucession de collatz para cualquier numero, pero si el numero es multiplo de 7 parar el bucle."
      ],
      "metadata": {
        "id": "wbS0EBgS_O0r"
      }
    },
    {
      "cell_type": "code",
      "source": [
        "x=101\n",
        "while(x!=1):\n",
        "  print(x)\n",
        "  if(x%7==0):\n",
        "    break\n",
        "  if(x%2==0):\n",
        "    x=x//2\n",
        "  else:\n",
        "    x=x*3+1\n"
      ],
      "metadata": {
        "id": "XBoUEHzf-5kl"
      },
      "execution_count": null,
      "outputs": []
    },
    {
      "cell_type": "markdown",
      "source": [
        "#APLICACIONES LOOPS O BUCLES"
      ],
      "metadata": {
        "id": "TYAv8YksgTdZ"
      }
    },
    {
      "cell_type": "markdown",
      "source": [
        "# Criba de Eratóstenes:\n"
      ],
      "metadata": {
        "id": "fwZrhrySDupV"
      }
    },
    {
      "cell_type": "code",
      "source": [
        "N=int(1e3)\n",
        "criba = (N+1)*[True]\n",
        "criba[0]=criba[1]=False\n",
        "for i in range(2,N+1):\n",
        "  cd=0\n",
        "  for d in range(1,i+1):\n",
        "    if i%d == 0:\n",
        "      cd+=1\n",
        "  if cd!=2:\n",
        "    criba[i] = False\n",
        "\n",
        "criba[13]"
      ],
      "metadata": {
        "id": "7BDNvs3VD3Jq",
        "colab": {
          "base_uri": "https://localhost:8080/"
        },
        "outputId": "f4442d5e-014e-4261-d8c1-19a0564a020f"
      },
      "execution_count": null,
      "outputs": [
        {
          "output_type": "execute_result",
          "data": {
            "text/plain": [
              "True"
            ]
          },
          "metadata": {},
          "execution_count": 4
        }
      ]
    },
    {
      "cell_type": "code",
      "source": [
        "N=int(1e7)\n",
        "criba = (N+1)*[True]\n",
        "criba[0]=criba[1]=False\n",
        "for i in range(2,N+1):\n",
        "  if criba[i]:\n",
        "    for j in range(i,N//i+1):\n",
        "      criba[i*j] = False\n",
        "\n",
        "criba[13]"
      ],
      "metadata": {
        "id": "jd-_cu2Sf8f_",
        "colab": {
          "base_uri": "https://localhost:8080/"
        },
        "outputId": "3e8e4a9e-38fb-4ada-a722-08804df22793"
      },
      "execution_count": null,
      "outputs": [
        {
          "output_type": "execute_result",
          "data": {
            "text/plain": [
              "True"
            ]
          },
          "metadata": {},
          "execution_count": 9
        }
      ]
    },
    {
      "cell_type": "markdown",
      "source": [
        "#Series notables"
      ],
      "metadata": {
        "id": "E6iDEVbZf94e"
      }
    },
    {
      "cell_type": "code",
      "source": [
        "#1+2+3+4+....N\n",
        "c=0\n",
        "N=10\n",
        "for i in range(N+1):\n",
        "  c+=i\n",
        "  print(c)\n"
      ],
      "metadata": {
        "id": "I_XDL79egAB-",
        "colab": {
          "base_uri": "https://localhost:8080/"
        },
        "outputId": "c0d29f01-c44e-47d9-da5f-84cd521a7616"
      },
      "execution_count": null,
      "outputs": [
        {
          "output_type": "stream",
          "name": "stdout",
          "text": [
            "0\n",
            "1\n",
            "3\n",
            "6\n",
            "10\n",
            "15\n",
            "21\n",
            "28\n",
            "36\n",
            "45\n",
            "55\n"
          ]
        }
      ]
    },
    {
      "cell_type": "code",
      "source": [
        "c=0\n",
        "N=10\n",
        "i=1\n",
        "while i<=N:\n",
        "  c+=i\n",
        "  i+=1\n",
        "  print(c)"
      ],
      "metadata": {
        "id": "i4M6kDFIgA0O",
        "colab": {
          "base_uri": "https://localhost:8080/"
        },
        "outputId": "7cea9b7e-1228-48ff-a53d-3a6957babe5f"
      },
      "execution_count": null,
      "outputs": [
        {
          "output_type": "stream",
          "name": "stdout",
          "text": [
            "1\n",
            "3\n",
            "6\n",
            "10\n",
            "15\n",
            "21\n",
            "28\n",
            "36\n",
            "45\n",
            "55\n"
          ]
        }
      ]
    },
    {
      "cell_type": "markdown",
      "source": [
        "# Serie del seno:\n",
        "\n",
        "$$sen(x)= \\sum_{i=0}^{\\infty} \\frac{x^{2k+1}  (-1)^{k}}{(2k+1)!}= \\frac{x}{1!}-\\frac{x^3}{3!}+\\frac{x^5}{5!}-\\frac{x^7}{7!}+ \\cdots$$"
      ],
      "metadata": {
        "id": "VVhwZrEZD4fM"
      }
    },
    {
      "cell_type": "code",
      "source": [
        "import numpy as np\n",
        "sum=0\n",
        "angulo_sex=90\n",
        "angulo_rad=angulo_sex*np.pi/180\n",
        "factorial_inferior=1\n",
        "m=1\n",
        "for k in range(70):\n",
        "  termino_k=(((-1)**k)*(angulo_rad**(2*k+1)))/factorial_inferior\n",
        "  sum = sum + termino_k\n",
        "  factorial_inferior=factorial_inferior*(m+1)*(m+2)\n",
        "\n",
        "  \n",
        "  m=m+2\n",
        "\n",
        "print(sum)\n"
      ],
      "metadata": {
        "id": "fx2GtHzZFtNu",
        "colab": {
          "base_uri": "https://localhost:8080/"
        },
        "outputId": "e6722000-bc06-439a-f013-0bf4269626d6"
      },
      "execution_count": null,
      "outputs": [
        {
          "output_type": "stream",
          "name": "stdout",
          "text": [
            "1.0000000000000002\n"
          ]
        }
      ]
    },
    {
      "cell_type": "markdown",
      "source": [
        "# Serie del Coseno:\n",
        "$$cos(x)= \\sum_{i=0}^{\\infty} \\frac{x^{2k}  (-1)^{k}}{(2k)!}= \\frac{1}{0!}-\\frac{x^2}{2!}+\\frac{x^4}{4!}-\\frac{x^6}{6!}+ \\cdots$$"
      ],
      "metadata": {
        "id": "dty12WdBFuoF"
      }
    },
    {
      "cell_type": "code",
      "source": [
        "import math as m\n",
        "def taylor_coseno(angulo_rad,n):\n",
        "  sum = 0\n",
        "  factorial_inferior=1\n",
        "  m=0\n",
        "  for k in range(n):\n",
        "    termino_k=((-1)**k)*(angulo_rad**(2*k))/factorial_inferior\n",
        "    sum = sum + termino_k\n",
        "    factorial_inferior = factorial_inferior*(m+1)*(m+2)\n",
        "    m=m+2\n",
        "  return(sum)\n",
        "\n",
        "print(taylor_coseno(2*np.pi,85))"
      ],
      "metadata": {
        "id": "JGSwPonnGI_U",
        "colab": {
          "base_uri": "https://localhost:8080/"
        },
        "outputId": "2810b71d-82db-41a2-dfc9-12910eb8c5b9"
      },
      "execution_count": null,
      "outputs": [
        {
          "output_type": "stream",
          "name": "stdout",
          "text": [
            "0.9999999999999902\n"
          ]
        }
      ]
    },
    {
      "cell_type": "markdown",
      "source": [
        "##Contruimos una gráfica para comparar nuestra serie de Taylor con una función cos de Python"
      ],
      "metadata": {
        "id": "zIJCVbjbgCqP"
      }
    },
    {
      "cell_type": "code",
      "source": [
        "import math\n",
        "import numpy as np\n",
        "import matplotlib.pyplot as plt\n",
        "\n",
        "angulos=np.arange(-2*np.pi,2*np.pi,0.1)\n",
        "p_cos = np.cos(angulos)\n",
        "print(type(p_cos))\n",
        "t_cos=[taylor_coseno(angulos,3) for angulos in angulos]\n",
        "print(type(t_cos))\n",
        "\n",
        "fig,ax = plt.subplots()\n",
        "ax.plot(angulos,p_cos)\n",
        "\n",
        "ax.plot(angulos,t_cos)\n",
        "\n",
        "ax.set_ylim([-5,5])\n",
        "\n",
        "ax.legend(['cos() Python','Taylor Series - 3 terminos'])\n",
        "\n",
        "plt.show()"
      ],
      "metadata": {
        "id": "_AkcPB21gIxR",
        "colab": {
          "base_uri": "https://localhost:8080/",
          "height": 300
        },
        "outputId": "3ae86ac5-876a-49ed-9311-b12016468b92"
      },
      "execution_count": null,
      "outputs": [
        {
          "output_type": "stream",
          "name": "stdout",
          "text": [
            "<class 'numpy.ndarray'>\n",
            "<class 'list'>\n"
          ]
        },
        {
          "output_type": "display_data",
          "data": {
            "text/plain": [
              "<Figure size 432x288 with 1 Axes>"
            ],
            "image/png": "[encoded data removed]"
          },
          "metadata": {
            "needs_background": "light"
          }
        }
      ]
    },
    {
      "cell_type": "markdown",
      "source": [
        "##Podemos ir viendo las gráficas conforme nuestra función se va aproximando a la función de python"
      ],
      "metadata": {
        "id": "iXm_gfGHgJii"
      }
    },
    {
      "cell_type": "code",
      "source": [
        "angulos = np.arange(-2*np.pi,2*np.pi,0.1)\n",
        "\n",
        "p_cos=np.cos(angulos)\n",
        "\n",
        "fig,ax=plt.subplots()\n",
        "fig.set_size_inches(15,10)\n",
        "\n",
        "ax.plot(angulos,p_cos)\n",
        "n=10\n",
        "for i in range(1,n+1):\n",
        "  t_cos=[taylor_coseno(angulos,i) for angulos in angulos]\n",
        "  ax.plot(angulos,t_cos)\n",
        "\n",
        "ax.set_ylim([-5,5])\n",
        "legend_list=['cos() Python']\n",
        "\n",
        "for i in range(1,n+1):\n",
        "  legend_list.append(f'Taylor Series - {i} terminos')\n",
        "\n",
        "ax.legend(legend_list)\n",
        "plt.show()"
      ],
      "metadata": {
        "id": "lPprrTs2gPmq",
        "colab": {
          "base_uri": "https://localhost:8080/",
          "height": 592
        },
        "outputId": "1a2adac1-1940-4bc6-81fe-30cc839319cf"
      },
      "execution_count": null,
      "outputs": [
        {
          "output_type": "display_data",
          "data": {
            "text/plain": [
              "<Figure size 1080x720 with 1 Axes>"
            ],
            "image/png": "[encoded data removed]"
          },
          "metadata": {
            "needs_background": "light"
          }
        }
      ]
    },
    {
      "cell_type": "markdown",
      "source": [
        "# Pi:\n",
        "$$\\pi= \\sum_{i=1}^{\\infty} \\frac{  (-1)^{k+1}}{(2k-1)}= 1-\\frac{1}{3}+\\frac{1}{5}-\\frac{1}{7}+ \\cdots$$"
      ],
      "metadata": {
        "id": "X-MVrUHDKkkn"
      }
    },
    {
      "cell_type": "code",
      "source": [
        "pi = 0\n",
        "for i in range(1,1000):\n",
        "  termino_k=(-1)**(i+1)/(2*i-1)\n",
        "  pi = pi +termino_k\n",
        "pi = pi*4\n",
        "print(pi)\n",
        "print(np.pi)"
      ],
      "metadata": {
        "id": "Opumz472KrYk",
        "colab": {
          "base_uri": "https://localhost:8080/"
        },
        "outputId": "da41654d-e4dd-418d-d42c-19b2e91dd4b2"
      },
      "execution_count": null,
      "outputs": [
        {
          "output_type": "stream",
          "name": "stdout",
          "text": [
            "3.142593654340044\n",
            "3.141592653589793\n"
          ]
        }
      ]
    },
    {
      "cell_type": "markdown",
      "source": [
        "$$\\frac{1}{\\pi}=\\frac{2\\sqrt{2}}{99^2} \\cdot \\sum_{k=0}^{\\infty}\\frac{(4k)!}{(k!)^4} \\cdot \\frac{(26390k+1103)}{396^{4k}}$$"
      ],
      "metadata": {
        "id": "ayIuSDEvQjKK"
      }
    },
    {
      "cell_type": "code",
      "source": [
        "import numpy as np\n",
        "suma = 0\n",
        "factorial_superior = 1\n",
        "factorial_inferior = 1\n",
        "m = 0\n",
        "for i in range(2):\n",
        "  termino_k=(263090*i+1103)*factorial_superior/(396**(4*i)*factorial_inferior**4)\n",
        "  factorial_inferior=factorial_inferior*(i+1)\n",
        "  factorial_superior=factorial_superior*(m+1)*(m+2)*(m+3)*(m+4)\n",
        "  m=m+4\n",
        "  suma = suma + termino_k\n",
        "\n",
        "suma = (1/suma)*99**2/(2*np.sqrt(2))\n",
        "\n",
        "print(suma)\n",
        "print(np.pi)"
      ],
      "metadata": {
        "id": "azVfFugPSCQR",
        "colab": {
          "base_uri": "https://localhost:8080/"
        },
        "outputId": "a28df7a5-9fd3-471a-94e0-1b81c8b636f3"
      },
      "execution_count": null,
      "outputs": [
        {
          "output_type": "stream",
          "name": "stdout",
          "text": [
            "3.1415919956244567\n",
            "3.141592653589793\n"
          ]
        }
      ]
    }
  ]
}